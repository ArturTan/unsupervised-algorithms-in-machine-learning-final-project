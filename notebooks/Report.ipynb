{
 "cells": [
  {
   "cell_type": "markdown",
   "id": "8d169894-9330-4298-b65c-ff4d782c64ac",
   "metadata": {},
   "source": [
    "\n",
    "1. Objective: Identify trending topics in a large dataset of book reviews and analyze the sentiment related to each topic for strategic insights.\n",
    "\n",
    "2. Data preparation and text vectorization\n",
    "\n",
    "3. Clustering and dimensionality reduction\n",
    "\n",
    "6.  Topic naming\n",
    "\n",
    "7. Key Findings: Clusters and Sentiment Distribution\n",
    "\n"
   ]
  },
  {
   "cell_type": "markdown",
   "id": "45ff66a3-34a3-40fb-a46f-6069046436d3",
   "metadata": {},
   "source": [
    "# Libraries"
   ]
  },
  {
   "cell_type": "code",
   "execution_count": 4,
   "id": "395276cc-a772-41ee-8ea4-406871e5be9b",
   "metadata": {},
   "outputs": [
    {
     "name": "stderr",
     "output_type": "stream",
     "text": [
      "/Users/arturtanona/Documents/coursera/unsupervised-machine-learning/week4/old-one/venv/lib/python3.10/site-packages/sentence_transformers/cross_encoder/CrossEncoder.py:11: TqdmExperimentalWarning: Using `tqdm.autonotebook.tqdm` in notebook mode. Use `tqdm.tqdm` instead to force console mode (e.g. in jupyter console)\n",
      "  from tqdm.autonotebook import tqdm, trange\n",
      "[nltk_data] Downloading package wordnet to\n",
      "[nltk_data]     /Users/arturtanona/nltk_data...\n",
      "[nltk_data]   Package wordnet is already up-to-date!\n"
     ]
    },
    {
     "name": "stdout",
     "output_type": "stream",
     "text": [
      "INFO: Pandarallel will run on 10 workers.\n",
      "INFO: Pandarallel will use standard multiprocessing data transfer (pipe) to transfer data between the main process and workers.\n"
     ]
    },
    {
     "name": "stderr",
     "output_type": "stream",
     "text": [
      "[nltk_data] Downloading package stopwords to\n",
      "[nltk_data]     /Users/arturtanona/nltk_data...\n",
      "[nltk_data]   Package stopwords is already up-to-date!\n"
     ]
    }
   ],
   "source": [
    "# Libraries\n",
    "\n",
    "from pandarallel import pandarallel\n",
    "import sys\n",
    "import nltk\n",
    "import nltk\n",
    "import ssl\n",
    "import seaborn as sns\n",
    "from sentence_transformers import SentenceTransformer\n",
    "\n",
    "try:\n",
    "    _create_unverified_https_context = ssl._create_unverified_context\n",
    "except AttributeError:\n",
    "    pass\n",
    "else:\n",
    "    ssl._create_default_https_context = _create_unverified_https_context\n",
    "\n",
    "nltk.download(\"wordnet\")\n",
    "sys.path.append(\"..\")\n",
    "import numpy as np\n",
    "import pickle\n",
    "import seaborn as sns\n",
    "import matplotlib.pyplot as plt\n",
    "from dataclasses import dataclass\n",
    "from tqdm import tqdm\n",
    "\n",
    "import seaborn as sns\n",
    "from sklearn.feature_extraction.text import CountVectorizer\n",
    "import pandas as pd\n",
    "import sys\n",
    "from flashtext import KeywordProcessor\n",
    "from constant import MAPPING_OVERALL_TO_SENTIMENT, MAPPING_SENTIMENT_TO_NUMBER\n",
    "\n",
    "from data_preprocessors.data_cleaner import DataCleaner\n",
    "from data_preprocessors.spacy_analyzer import SpacyAnalyzer\n",
    "from data_preprocessors.correction_heuristics_executor import (\n",
    "    CorrectionHeuristicsExecutor,\n",
    ")\n",
    "\n",
    "pandarallel.initialize(progress_bar=True, nb_workers=10)"
   ]
  },
  {
   "cell_type": "markdown",
   "id": "79205a19",
   "metadata": {},
   "source": [
    "# About dataset"
   ]
  },
  {
   "cell_type": "markdown",
   "id": "a5f6f7e4-e37c-4d9a-b492-95e97cb192ac",
   "metadata": {},
   "source": [
    "Source: [Kaggle - Amazon Books Reviews](https://www.kaggle.com/datasets/mohamedbakhet/amazon-books-reviews)\n",
    "\n",
    "This dataset contains approximately 3 million book reviews for 212,404 unique books, along with user information for each review. However I used only 140000 rows to conduct the Exploratory Data Analysis (EDA). Let's delve deeply into the data!"
   ]
  },
  {
   "cell_type": "code",
   "execution_count": 5,
   "id": "7251c812-a401-4adb-89ba-a0babb865237",
   "metadata": {},
   "outputs": [],
   "source": [
    "# !rm -R ../data\n",
    "!mkdir -p  ../data"
   ]
  },
  {
   "cell_type": "code",
   "execution_count": 44,
   "id": "7878c997-2b8c-4a98-94cc-b7a87c45d67e",
   "metadata": {},
   "outputs": [
    {
     "name": "stderr",
     "output_type": "stream",
     "text": [
      "/var/folders/ph/bfnsqjgs6h94fqr63sv1_3t80000gn/T/ipykernel_52922/1947241950.py:3: DtypeWarning: Columns (2,6,7) have mixed types. Specify dtype option on import or set low_memory=False.\n",
      "  train_data = pd.read_csv(\n"
     ]
    }
   ],
   "source": [
    "# train_data = next(pd.read_csv(\"../Books_rating.csv\", chunksize=10000, names=['asin', 'title', 'price', 'userId', 'profileName', 'reviewHelpfulness',\n",
    "#        'overall', 'reviewTime', 'reviewSummary', 'reviewText']))\n",
    "train_data = pd.read_csv(\n",
    "    \"../Books_rating.csv\",\n",
    "    names=[\n",
    "        \"asin\",\n",
    "        \"title\",\n",
    "        \"price\",\n",
    "        \"userId\",\n",
    "        \"profileName\",\n",
    "        \"reviewHelpfulness\",\n",
    "        \"overall\",\n",
    "        \"reviewTime\",\n",
    "        \"reviewSummary\",\n",
    "        \"reviewText\",\n",
    "    ],\n",
    ")"
   ]
  },
  {
   "cell_type": "code",
   "execution_count": 45,
   "id": "fc4eb7af-dd7d-4586-8218-b021b00a45bf",
   "metadata": {},
   "outputs": [],
   "source": [
    "train_data = train_data.head(140000)"
   ]
  },
  {
   "cell_type": "markdown",
   "id": "24e1655c-d38f-4760-9f0d-d41909fdec94",
   "metadata": {},
   "source": [
    "# Proprocessing training data"
   ]
  },
  {
   "cell_type": "markdown",
   "id": "26b6ca7f-3d7e-4c2a-9302-a015a4860aee",
   "metadata": {},
   "source": [
    "In order to get cleaner text (without typos and unknown words), I have:\n",
    "- removed duplicated punctuations,\n",
    "- converted emojis to the word equivalents (e.g. kiss mark),\n",
    "- removed unknown words from pov of wordnet, \n",
    "- removed characters that occur more than 2 times consequtively, \n",
    "- converted compound words that are mistakenly written into separate words\n",
    "etc. \n"
   ]
  },
  {
   "cell_type": "code",
   "execution_count": 29,
   "id": "f34aa603-37eb-443a-92db-71d7eedd0689",
   "metadata": {},
   "outputs": [
    {
     "name": "stdout",
     "output_type": "stream",
     "text": [
      "rm: train_spans: No such file or directory\n"
     ]
    }
   ],
   "source": [
    "!rm -R train_spans # clean up resources"
   ]
  },
  {
   "cell_type": "markdown",
   "id": "26ec75f1-b0d9-4d83-a0e4-8b4910729bb5",
   "metadata": {},
   "source": [
    "The dataset contains initially 140000 rows. Let's collect infos about lemmas, part of sequence taggings. For this exercise I used SpacyAnalyzer processor, as well as custom CorrectionHeuristicsExecutor. This entire sequence is about reducing effect of typos and misclicks on the quality of the data (I used i.a. Viterbi algorithm)."
   ]
  },
  {
   "cell_type": "code",
   "execution_count": 32,
   "id": "1c6778a8-b2dd-4fb3-adb7-6b9a6fbb397c",
   "metadata": {},
   "outputs": [
    {
     "data": {
      "text/plain": [
       "((140000, 10), (140000, 10))"
      ]
     },
     "execution_count": 32,
     "metadata": {},
     "output_type": "execute_result"
    }
   ],
   "source": [
    "data_cleaner.data.shape, train_data.shape"
   ]
  },
  {
   "cell_type": "code",
   "execution_count": 30,
   "id": "7c36ac1c-390d-4b2f-a9d0-f3147a8c04d3",
   "metadata": {},
   "outputs": [
    {
     "name": "stderr",
     "output_type": "stream",
     "text": [
      "06-25 07:00 data_preprocessors.data_cleaner INFO     Words that are uppercase are converted to lowercase\n"
     ]
    },
    {
     "data": {
      "application/vnd.jupyter.widget-view+json": {
       "model_id": "aadf4a18b0464f6c96222f37ccc650d8",
       "version_major": 2,
       "version_minor": 0
      },
      "text/plain": [
       "VBox(children=(HBox(children=(IntProgress(value=0, description='0.00%', max=14000), Label(value='0 / 14000')))…"
      ]
     },
     "metadata": {},
     "output_type": "display_data"
    },
    {
     "name": "stderr",
     "output_type": "stream",
     "text": [
      "06-25 07:00 data_preprocessors.data_cleaner INFO     Contraction converted to two words sequences\n"
     ]
    },
    {
     "data": {
      "application/vnd.jupyter.widget-view+json": {
       "model_id": "4c862a91be3947de840a790d66a87da8",
       "version_major": 2,
       "version_minor": 0
      },
      "text/plain": [
       "VBox(children=(HBox(children=(IntProgress(value=0, description='0.00%', max=14000), Label(value='0 / 14000')))…"
      ]
     },
     "metadata": {},
     "output_type": "display_data"
    },
    {
     "name": "stderr",
     "output_type": "stream",
     "text": [
      "06-25 07:00 data_preprocessors.data_cleaner INFO     HTML characters dropped\n"
     ]
    },
    {
     "data": {
      "application/vnd.jupyter.widget-view+json": {
       "model_id": "cb3c0099c14e4279aa25dbcbf3de9a9d",
       "version_major": 2,
       "version_minor": 0
      },
      "text/plain": [
       "VBox(children=(HBox(children=(IntProgress(value=0, description='0.00%', max=14000), Label(value='0 / 14000')))…"
      ]
     },
     "metadata": {},
     "output_type": "display_data"
    },
    {
     "name": "stderr",
     "output_type": "stream",
     "text": [
      "06-25 07:01 data_preprocessors.data_cleaner INFO     Emojis dropped\n"
     ]
    },
    {
     "data": {
      "application/vnd.jupyter.widget-view+json": {
       "model_id": "e8da43c924a14c49b9316a498b3f0a05",
       "version_major": 2,
       "version_minor": 0
      },
      "text/plain": [
       "VBox(children=(HBox(children=(IntProgress(value=0, description='0.00%', max=14000), Label(value='0 / 14000')))…"
      ]
     },
     "metadata": {},
     "output_type": "display_data"
    },
    {
     "name": "stderr",
     "output_type": "stream",
     "text": [
      "06-25 07:01 data_preprocessors.data_cleaner INFO     Duplicate punctuation removed\n"
     ]
    },
    {
     "data": {
      "application/vnd.jupyter.widget-view+json": {
       "model_id": "402d9e6d6f9e4e7ba674d74cb5994184",
       "version_major": 2,
       "version_minor": 0
      },
      "text/plain": [
       "VBox(children=(HBox(children=(IntProgress(value=0, description='0.00%', max=14000), Label(value='0 / 14000')))…"
      ]
     },
     "metadata": {},
     "output_type": "display_data"
    },
    {
     "name": "stderr",
     "output_type": "stream",
     "text": [
      "06-25 07:01 data_preprocessors.data_cleaner INFO     Removed more than 3 consecutive same characters\n"
     ]
    },
    {
     "data": {
      "application/vnd.jupyter.widget-view+json": {
       "model_id": "5bc5c982e4624a8190e8f6fa5e4a8e1a",
       "version_major": 2,
       "version_minor": 0
      },
      "text/plain": [
       "VBox(children=(HBox(children=(IntProgress(value=0, description='0.00%', max=14000), Label(value='0 / 14000')))…"
      ]
     },
     "metadata": {},
     "output_type": "display_data"
    },
    {
     "name": "stderr",
     "output_type": "stream",
     "text": [
      "06-25 07:01 data_preprocessors.data_cleaner INFO     Add space after punctuation\n"
     ]
    },
    {
     "data": {
      "application/vnd.jupyter.widget-view+json": {
       "model_id": "3fb2c6bd2e8b419a9ad8790de954cc24",
       "version_major": 2,
       "version_minor": 0
      },
      "text/plain": [
       "VBox(children=(HBox(children=(IntProgress(value=0, description='0.00%', max=14000), Label(value='0 / 14000')))…"
      ]
     },
     "metadata": {},
     "output_type": "display_data"
    },
    {
     "name": "stderr",
     "output_type": "stream",
     "text": [
      "06-25 07:01 data_preprocessors.data_cleaner INFO     Duplicate spaces removed\n",
      "06-25 07:01 data_preprocessors.data_cleaner INFO     Cleaning process ended\n"
     ]
    }
   ],
   "source": [
    "data_cleaner = DataCleaner(train_data)\n",
    "data_cleaner.preprocess()\n",
    "data_cleaner.data = data_cleaner.data[\n",
    "    ~(data_cleaner.data.reviewText == \"\")\n",
    "].reset_index(drop=True)\n",
    "\n"
   ]
  },
  {
   "cell_type": "code",
   "execution_count": 46,
   "id": "2df24601-f193-4a6d-82c4-6b23b719d584",
   "metadata": {},
   "outputs": [],
   "source": [
    "data_cleaner.data.to_csv(\"../data//_train_after_cleaning.csv\", encoding=\"utf-8\")\n",
    "analyzer = SpacyAnalyzer(\n",
    "    path_to_data=\"../data//_train_after_cleaning.csv\",\n",
    "    chunk_size=30000,\n",
    "    destination_folder=\"train_spans\",\n",
    ")\n",
    "analyzer.extract_spacy_spans()\n",
    "lemmas = analyzer.collect_info_about_words(\"lemma\")\n",
    "only_lemmas = [\n",
    "    word[1] for sequence in lemmas for sentence in sequence for word in sentence\n",
    "]\n",
    "only_lemmas = list(set(only_lemmas))\n",
    "data = pd.read_csv(\"../data//_train_after_cleaning.csv\", index_col=0)\n",
    "executor = CorrectionHeuristicsExecutor(only_lemmas)\n",
    "texts = executor.preprocess(data)"
   ]
  },
  {
   "cell_type": "code",
   "execution_count": 10,
   "id": "e11d1e31-042b-49d7-a4a4-1826e9cdc209",
   "metadata": {},
   "outputs": [
    {
     "name": "stderr",
     "output_type": "stream",
     "text": [
      "100%|████████████| 140000/140000 [00:20<00:00, 6737.44it/s]\n"
     ]
    }
   ],
   "source": [
    "with open(\"default_excluded_words.pkl\", \"rb\") as f:\n",
    "    correct_word_map_to_none = pickle.load(f)\n",
    "\n",
    "with open(\"default_corrected_words.pkl\", \"rb\") as f:\n",
    "    correct_word_map = pickle.load(f)\n",
    "\n",
    "\n",
    "text_lemmatized = [\n",
    "    \" \".join(\" \".join([word[1].lower() for word in sentence]) for sentence in sequence)\n",
    "    for sequence in lemmas\n",
    "]\n",
    "\n",
    "keyword_processor = KeywordProcessor()\n",
    "\n",
    "\n",
    "for word, target_word in correct_word_map_to_none.items():\n",
    "    keyword_processor.add_keyword(word, target_word)\n",
    "for word, target_word in correct_word_map.items():\n",
    "    keyword_processor.add_keyword(word, target_word)\n",
    "\n",
    "\n",
    "new_texts = []\n",
    "for i in tqdm(text_lemmatized):\n",
    "    new_texts.append(keyword_processor.replace_keywords(i))\n",
    "\n",
    "new_texts = [i.lower() for i in new_texts]"
   ]
  },
  {
   "cell_type": "code",
   "execution_count": 11,
   "id": "959f5454-f885-4c46-9687-5d72b3187d8e",
   "metadata": {},
   "outputs": [],
   "source": [
    "data[\"cleaned sentences\"] = texts"
   ]
  },
  {
   "cell_type": "code",
   "execution_count": 12,
   "id": "9325b6eb-24ac-49b4-a91e-b1897731c9b1",
   "metadata": {},
   "outputs": [
    {
     "data": {
      "text/plain": [
       "140000"
      ]
     },
     "execution_count": 12,
     "metadata": {},
     "output_type": "execute_result"
    }
   ],
   "source": [
    "len(new_texts)"
   ]
  },
  {
   "cell_type": "code",
   "execution_count": 13,
   "id": "5f37af28-5368-4fc2-9567-aa157a25abcb",
   "metadata": {},
   "outputs": [
    {
     "data": {
      "text/plain": [
       "(140000, 11)"
      ]
     },
     "execution_count": 13,
     "metadata": {},
     "output_type": "execute_result"
    }
   ],
   "source": [
    "data.shape"
   ]
  },
  {
   "cell_type": "code",
   "execution_count": 14,
   "id": "443c1d1b-7a25-4631-be09-b2dafc6909fa",
   "metadata": {},
   "outputs": [],
   "source": [
    "data[\"text_lematized\"] = new_texts"
   ]
  },
  {
   "cell_type": "code",
   "execution_count": 15,
   "id": "cef9b972-3f07-44f1-8cda-d3f97e42a730",
   "metadata": {},
   "outputs": [],
   "source": [
    "data[\"length\"] = train_data.reviewText.str.len()"
   ]
  },
  {
   "cell_type": "code",
   "execution_count": 16,
   "id": "13b37800-9ae4-4ca5-9b42-081b0f5a1352",
   "metadata": {},
   "outputs": [],
   "source": [
    "# removing 30000 outliers\n",
    "data = data[np.logical_and(data[\"length\"] < 2500, data[\"length\"] > 100)]"
   ]
  },
  {
   "cell_type": "code",
   "execution_count": 17,
   "id": "c22746ab-9f93-4e38-aeef-686f6e91d50c",
   "metadata": {},
   "outputs": [],
   "source": [
    "data.reset_index(drop=True).to_csv(\"../data/final_train_data.csv\")"
   ]
  },
  {
   "cell_type": "code",
   "execution_count": 19,
   "id": "691f6c30-1a1c-462a-9ab2-7c3116c8a9c0",
   "metadata": {},
   "outputs": [
    {
     "data": {
      "text/plain": [
       "title\n",
       "Hannibal                                                                                     1249\n",
       "Jane Eyre (New Windmill)                                                                     1190\n",
       "The Picture of Dorian Gray (Classic Collection (Brilliance Audio))                           1184\n",
       "The Five Love Languages: The Secret to Love that Lasts                                        985\n",
       "A Christmas Carol (Classic Fiction)                                                           957\n",
       "                                                                                             ... \n",
       "Information Technology Consulting and Other Professional Services Agreements Line by Line       1\n",
       "Inheriting Scotland                                                                             1\n",
       "The Cambridge Companion to Spinoza (Cambridge Companions to Philosophy)                         1\n",
       "The Cambridge Companion to Renaissance Humanism (Cambridge Companions to Literature)            1\n",
       "Mind, Brain, and Language: Multidisciplinary Perspectives                                       1\n",
       "Length: 15646, dtype: int64"
      ]
     },
     "execution_count": 19,
     "metadata": {},
     "output_type": "execute_result"
    }
   ],
   "source": [
    "train_data.groupby(\"title\").size().sort_values(ascending=False)"
   ]
  },
  {
   "cell_type": "markdown",
   "id": "f693bdb9-4793-4569-8720-f70a34288fa7",
   "metadata": {},
   "source": [
    "# Short overview"
   ]
  },
  {
   "cell_type": "markdown",
   "id": "7e023bce-532b-40dd-891b-bcd1edac4e4b",
   "metadata": {},
   "source": [
    "Cleaned data contains unique 124601 reviews  on 15103 books. Some of them are spams, some laconic, some are examples of the very good piece of writing. "
   ]
  },
  {
   "cell_type": "code",
   "execution_count": 47,
   "id": "b44e013b-2a36-4ff6-9610-ec3b465559a9",
   "metadata": {},
   "outputs": [],
   "source": [
    "train_data = pd.read_csv(\"../../../old-one/data/final_train_data.csv\")"
   ]
  },
  {
   "cell_type": "code",
   "execution_count": 48,
   "id": "fb9ffb00-9de9-4278-bf15-b60f775d9514",
   "metadata": {
    "scrolled": true
   },
   "outputs": [
    {
     "data": {
      "text/plain": [
       "124601"
      ]
     },
     "execution_count": 48,
     "metadata": {},
     "output_type": "execute_result"
    }
   ],
   "source": [
    "len(train_data.reviewText.unique())"
   ]
  },
  {
   "cell_type": "code",
   "execution_count": 49,
   "id": "07fd5245-8c91-4f3d-a10f-a96807c5344c",
   "metadata": {},
   "outputs": [
    {
     "data": {
      "text/plain": [
       "15103"
      ]
     },
     "execution_count": 49,
     "metadata": {},
     "output_type": "execute_result"
    }
   ],
   "source": [
    "len(train_data.title.unique())"
   ]
  },
  {
   "cell_type": "code",
   "execution_count": 50,
   "id": "e9b73cfc-4ba3-4d34-bc9f-69354b2a3aa7",
   "metadata": {},
   "outputs": [
    {
     "name": "stdout",
     "output_type": "stream",
     "text": [
      "This new trend in advice books aimed for women has all the sensationalism ( and staying power) of Reality tv or other \" yellow\" forms of entertainment. i realize the title and writing is sensationalized in order to sell lots of books and make the author a nice pile of royalty checks, is this really an advancement in relationships between the sexes? i wanted to give it one star, but i realize, if you want to play a game along the lines recommended in this book, you can manipulate another human being and keep them in a relationship. But my question is- if you have to resort to such tactics, and if the other person is willing to continuously submit to such tactics, what kind of long- term relationship are you hoping to achieve? Like i posted about another ill- fated book of advice on modern marriage, if i were a divorce lawyer, I would be sending out complimentary copies of this book all across my locale with my name and number affixed to the front cover, and just wait five years. there i\n"
     ]
    }
   ],
   "source": [
    "print(\n",
    "    train_data[\n",
    "        train_data.reviewText.str.len() == train_data.reviewText.str.len().max()\n",
    "    ].reviewText.values[0][:1000]\n",
    ")"
   ]
  },
  {
   "cell_type": "code",
   "execution_count": 51,
   "id": "a2a4a137-3e6b-4abb-a2dc-23ff5d5aba1b",
   "metadata": {},
   "outputs": [],
   "source": [
    "try:\n",
    "    print(train_data[train_data.reviewText.str.len() < 100].reviewText.values[0][:1000])\n",
    "except:\n",
    "    pass"
   ]
  },
  {
   "cell_type": "code",
   "execution_count": 52,
   "id": "e3338e02-5006-4d39-a6bb-baf63604302d",
   "metadata": {},
   "outputs": [],
   "source": [
    "train_data[\"sentiment\"] = train_data[\"overall\"].apply(\n",
    "    lambda x: MAPPING_OVERALL_TO_SENTIMENT[x]\n",
    ")"
   ]
  },
  {
   "cell_type": "code",
   "execution_count": 65,
   "id": "20226eb1-899c-4496-9da5-ae9bf1e17b9e",
   "metadata": {},
   "outputs": [
    {
     "name": "stderr",
     "output_type": "stream",
     "text": [
      "06-25 07:22 matplotlib.category INFO     Using categorical units to plot a list of strings that are all parsable as floats or dates. If these strings should be plotted as numbers, cast to the appropriate data type before plotting.\n",
      "06-25 07:22 matplotlib.category INFO     Using categorical units to plot a list of strings that are all parsable as floats or dates. If these strings should be plotted as numbers, cast to the appropriate data type before plotting.\n"
     ]
    },
    {
     "data": {
      "image/png": "[encoded data removed]",
      "text/plain": [
       "<Figure size 1000x600 with 1 Axes>"
      ]
     },
     "metadata": {},
     "output_type": "display_data"
    }
   ],
   "source": [
    "plt.figure(figsize=(10, 6))\n",
    "ordered_overall = sorted(train_data['overall'].fillna(3.0).unique())\n",
    "sns.countplot(x=\"overall\", data=train_data, order=ordered_overall)\n",
    "\n",
    "plt.title(\"Bar Plot of Overall\")\n",
    "plt.xlabel(\"Overall\")\n",
    "plt.ylabel(\"Frequency\")\n",
    "plt.show()"
   ]
  },
  {
   "cell_type": "markdown",
   "id": "bbab7c79-3cec-4b76-8f7a-5179cb4b27ed",
   "metadata": {},
   "source": [
    "# Vocab analysis"
   ]
  },
  {
   "cell_type": "markdown",
   "id": "66e44c88-bac9-4eba-95c5-cd09acf712d0",
   "metadata": {},
   "source": [
    "Analysis of vocabulary from a part of speech perspective might be useful, especially if we would like to examine how the text of a typical review is constructed."
   ]
  },
  {
   "cell_type": "code",
   "execution_count": 40,
   "id": "def21da0-d86a-420c-a7e2-03e99ead0d91",
   "metadata": {},
   "outputs": [],
   "source": [
    "analyzer = SpacyAnalyzer(\n",
    "    path_to_data=\"../data/final_train_data.csv\",\n",
    "    chunk_size=30000,\n",
    "    destination_folder=\"../train_spans/\",\n",
    ")\n",
    "poses = analyzer.collect_info_about_words(\"pos\")"
   ]
  },
  {
   "cell_type": "code",
   "execution_count": 41,
   "id": "9672aa3e-760c-4715-a61b-b86bb21cec40",
   "metadata": {},
   "outputs": [
    {
     "data": {
      "text/plain": [
       "<Axes: ylabel='Frequency'>"
      ]
     },
     "execution_count": 41,
     "metadata": {},
     "output_type": "execute_result"
    },
    {
     "data": {
      "image/png": "[encoded data removed]",
      "text/plain": [
       "<Figure size 640x480 with 1 Axes>"
      ]
     },
     "metadata": {},
     "output_type": "display_data"
    }
   ],
   "source": [
    "counted_poses = [\n",
    "    Counter([word[1] for sentence in sequence for word in sentence])\n",
    "    for sequence in poses\n",
    "]\n",
    "\n",
    "counted_poses = [dict(count) for count in counted_poses]\n",
    "\n",
    "\n",
    "poses_matrix = pd.DataFrame(counted_poses)\n",
    "\n",
    "poses_matrix[\"NOUN\"].plot.hist()"
   ]
  },
  {
   "cell_type": "code",
   "execution_count": 42,
   "id": "640d5e21-14f1-4753-a9c6-9adab3ee9eb1",
   "metadata": {},
   "outputs": [],
   "source": [
    "noun_occurences = [\n",
    "    word[0]\n",
    "    for sequence in poses\n",
    "    for sentence in sequence\n",
    "    for word in sentence\n",
    "    if word[1] == \"NOUN\"\n",
    "]\n",
    "verb_occurences = [\n",
    "    word[0]\n",
    "    for sequence in poses\n",
    "    for sentence in sequence\n",
    "    for word in sentence\n",
    "    if word[1] == \"VERB\"\n",
    "]\n",
    "adjective_occurences = [\n",
    "    word[0]\n",
    "    for sequence in poses\n",
    "    for sentence in sequence\n",
    "    for word in sentence\n",
    "    if word[1] == \"ADJ\"\n",
    "]"
   ]
  },
  {
   "cell_type": "code",
   "execution_count": 43,
   "id": "27ea446e-53d1-426f-bed3-dd1e4198488f",
   "metadata": {},
   "outputs": [],
   "source": [
    "noun_occurences = Counter(noun_occurences)"
   ]
  },
  {
   "cell_type": "code",
   "execution_count": 44,
   "id": "c816fc53-e560-48e2-ae36-e68f3c43ea13",
   "metadata": {},
   "outputs": [
    {
     "data": {
      "text/plain": [
       "{'book': 12458,\n",
       " 'story': 7745,\n",
       " 'characters': 3364,\n",
       " 'series': 3002,\n",
       " 'author': 2518,\n",
       " 'books': 2502,\n",
       " 'love': 2165,\n",
       " 'time': 2110,\n",
       " 'way': 1891,\n",
       " 'read': 1875,\n",
       " 'life': 1864,\n",
       " 'one': 1379,\n",
       " 'romance': 1280,\n",
       " 'character': 1153,\n",
       " 'things': 1097,\n",
       " 'stories': 1093,\n",
       " 'lot': 1082,\n",
       " 'end': 1035,\n",
       " 'people': 1020,\n",
       " 'man': 959,\n",
       " 'world': 951,\n",
       " 'bit': 920,\n",
       " 'part': 839,\n",
       " 'family': 832,\n",
       " 'review': 808,\n",
       " 'plot': 803,\n",
       " 'sex': 785,\n",
       " 'relationship': 756,\n",
       " 's': 731,\n",
       " 'heart': 703}"
      ]
     },
     "execution_count": 44,
     "metadata": {},
     "output_type": "execute_result"
    }
   ],
   "source": [
    "results = sorted(dict(noun_occurences), key=lambda x: noun_occurences[x], reverse=True)\n",
    "{key: noun_occurences[key] for key in results[:30]}"
   ]
  },
  {
   "cell_type": "code",
   "execution_count": 45,
   "id": "b75f95f9-0f01-4737-90aa-1cb1f5ec629e",
   "metadata": {},
   "outputs": [],
   "source": [
    "verb_occurences = Counter(verb_occurences)"
   ]
  },
  {
   "cell_type": "code",
   "execution_count": 46,
   "id": "0864d301-23a0-495b-bdbe-2676c204e0e7",
   "metadata": {},
   "outputs": [
    {
     "data": {
      "text/plain": [
       "{'read': 5160,\n",
       " 'have': 2894,\n",
       " 's': 2613,\n",
       " 'get': 2332,\n",
       " 'had': 2085,\n",
       " 'love': 2044,\n",
       " 'loved': 1940,\n",
       " 'reading': 1906,\n",
       " 'has': 1905,\n",
       " 'know': 1747,\n",
       " 'see': 1568,\n",
       " 'want': 1469,\n",
       " 'enjoyed': 1468,\n",
       " 'think': 1312,\n",
       " 'like': 1281,\n",
       " 'find': 1275,\n",
       " 'going': 1241,\n",
       " 'make': 1234,\n",
       " 'wait': 1148,\n",
       " 'written': 1136,\n",
       " 'recommend': 1103,\n",
       " 'do': 1094,\n",
       " 'say': 1042,\n",
       " 'made': 1032,\n",
       " 'found': 985,\n",
       " 'go': 982,\n",
       " 'liked': 977,\n",
       " 'put': 959,\n",
       " 'feel': 918,\n",
       " \"'\": 863}"
      ]
     },
     "execution_count": 46,
     "metadata": {},
     "output_type": "execute_result"
    }
   ],
   "source": [
    "results = sorted(dict(verb_occurences), key=lambda x: verb_occurences[x], reverse=True)\n",
    "{key: verb_occurences[key] for key in results[:30]}"
   ]
  },
  {
   "cell_type": "code",
   "execution_count": 47,
   "id": "c1bb8a45-dcb5-4950-964d-cc09dc72edfa",
   "metadata": {},
   "outputs": [],
   "source": [
    "adjective_occurences = Counter(adjective_occurences)"
   ]
  },
  {
   "cell_type": "code",
   "execution_count": 50,
   "id": "6a49cdad-f88f-4cf5-9af8-bad950e6995a",
   "metadata": {},
   "outputs": [],
   "source": [
    "results = sorted(\n",
    "    dict(adjective_occurences), key=lambda x: adjective_occurences[x], reverse=True\n",
    ")\n",
    "selected_results = {key: adjective_occurences[key] for key in results[:50]}"
   ]
  },
  {
   "cell_type": "code",
   "execution_count": 51,
   "id": "47580a83-3116-485b-b49c-5a72aaf2e426",
   "metadata": {},
   "outputs": [
    {
     "data": {
      "text/plain": [
       "{'more': 3015,\n",
       " 'good': 2923,\n",
       " 'great': 2516,\n",
       " 'other': 2207,\n",
       " 'first': 1692,\n",
       " 'little': 1585,\n",
       " 'short': 1274,\n",
       " 'next': 1221,\n",
       " 'many': 1074,\n",
       " 'new': 1027,\n",
       " 'hot': 882,\n",
       " 'interesting': 875,\n",
       " 'much': 833,\n",
       " 'different': 832,\n",
       " 'best': 789,\n",
       " 'own': 784,\n",
       " 'few': 775,\n",
       " 'real': 682,\n",
       " 'bad': 679,\n",
       " 'easy': 671,\n",
       " 'sure': 617,\n",
       " 'main': 570,\n",
       " 'better': 567,\n",
       " 'old': 532,\n",
       " 'sweet': 530,\n",
       " 'last': 521,\n",
       " 'amazing': 519,\n",
       " 'wonderful': 518,\n",
       " 'young': 514,\n",
       " 'same': 513,\n",
       " 'sexy': 504,\n",
       " 'whole': 499,\n",
       " 'able': 486,\n",
       " 'happy': 482,\n",
       " 'honest': 479,\n",
       " 'enough': 471,\n",
       " 'nice': 461,\n",
       " 'perfect': 459,\n",
       " 'hard': 458,\n",
       " 'strong': 458,\n",
       " 'free': 447,\n",
       " 'worth': 447,\n",
       " 'full': 441,\n",
       " 'second': 439,\n",
       " 'most': 422,\n",
       " 'only': 416,\n",
       " 'true': 400,\n",
       " 'quick': 392,\n",
       " 'beautiful': 376,\n",
       " 'big': 361}"
      ]
     },
     "execution_count": 51,
     "metadata": {},
     "output_type": "execute_result"
    }
   ],
   "source": [
    "selected_results"
   ]
  },
  {
   "cell_type": "markdown",
   "id": "27455d79-81cb-4fa6-9b79-2945ff9dba7d",
   "metadata": {},
   "source": [
    "Definitely, some words should be removed because they do not indicate any specific topic and could reduce the effectiveness of the TF-IDF vectorizer."
   ]
  },
  {
   "cell_type": "markdown",
   "id": "cb1caff3-9e24-4c9e-9763-e719de4717ae",
   "metadata": {},
   "source": [
    "# Vocabulary analysis per ngram and sentiment type. "
   ]
  },
  {
   "cell_type": "markdown",
   "id": "27a68f09-ff07-44a7-8700-b3846774c257",
   "metadata": {},
   "source": [
    "Let's analyse corpus for mixed, negative and positive reviews from this perspective."
   ]
  },
  {
   "cell_type": "markdown",
   "id": "d6c786c2-7712-4f5f-8803-b9698579d303",
   "metadata": {},
   "source": [
    "## Positive ngrams"
   ]
  },
  {
   "cell_type": "code",
   "execution_count": 52,
   "id": "6f81d40d-de93-4210-a71c-708fd63cc35e",
   "metadata": {},
   "outputs": [],
   "source": [
    "@dataclass\n",
    "class VectorizerData:\n",
    "    ngram: int\n",
    "    sentiment: str\n",
    "    vectorizer: CountVectorizer\n",
    "    sum_words: np.array\n",
    "    words_freq: np.array"
   ]
  },
  {
   "cell_type": "code",
   "execution_count": 53,
   "id": "c2de173a-f528-4949-bbc0-3b0aad180a88",
   "metadata": {},
   "outputs": [],
   "source": [
    "with open(\"stopwords-en.txt\") as f:\n",
    "    stop_words = f.read().splitlines()"
   ]
  },
  {
   "cell_type": "code",
   "execution_count": 54,
   "id": "fd2ac021-de9b-40b0-8750-a85321172ef9",
   "metadata": {},
   "outputs": [],
   "source": [
    "def get_top_ngram(sentiment, n=None):\n",
    "    # https://neptune.ai/blog/exploratory-data-analysis-natural-language-processing-tools\n",
    "    vectorizer = CountVectorizer(ngram_range=(n, n), stop_words=stop_words)\n",
    "    bag_of_words = vectorizer.fit_transform(\n",
    "        train_data[train_data.sentiment == sentiment][\"reviewText\"]\n",
    "    )\n",
    "    sum_words = bag_of_words.sum(axis=0)\n",
    "    words_freq = [\n",
    "        (word, sum_words[0, idx]) for word, idx in vectorizer.vocabulary_.items()\n",
    "    ]\n",
    "    words_freq = sorted(words_freq, key=lambda x: x[1], reverse=True)\n",
    "    return VectorizerData(\n",
    "        ngram=n,\n",
    "        sentiment=sentiment,\n",
    "        vectorizer=vectorizer,\n",
    "        sum_words=sum_words,\n",
    "        words_freq=words_freq,\n",
    "    )"
   ]
  },
  {
   "cell_type": "code",
   "execution_count": 55,
   "id": "779f07af-9a7d-4439-bd80-9beddfde59ee",
   "metadata": {},
   "outputs": [
    {
     "name": "stderr",
     "output_type": "stream",
     "text": [
      "/Users/arturtanona/Documents/coursera/unsupervised-machine-learning/week4/old-one/venv/lib/python3.10/site-packages/sklearn/feature_extraction/text.py:408: UserWarning: Your stop_words may be inconsistent with your preprocessing. Tokenizing the stop words generated tokens ['herse', 'himse', 'itse', 'mon', 'myse', 'positivea'] not in stop_words.\n",
      "  warnings.warn(\n"
     ]
    }
   ],
   "source": [
    "positive_1_gram = get_top_ngram(\"positive\", 1)"
   ]
  },
  {
   "cell_type": "code",
   "execution_count": 56,
   "id": "8f6a9a1b-430a-4969-8154-f58edeff875f",
   "metadata": {},
   "outputs": [
    {
     "data": {
      "text/plain": [
       "<Axes: >"
      ]
     },
     "execution_count": 56,
     "metadata": {},
     "output_type": "execute_result"
    },
    {
     "data": {
      "image/png": "[encoded data removed]",
      "text/plain": [
       "<Figure size 640x480 with 1 Axes>"
      ]
     },
     "metadata": {},
     "output_type": "display_data"
    }
   ],
   "source": [
    "x, y = map(list, zip(*positive_1_gram.words_freq[:20]))\n",
    "sns.barplot(x=y, y=x)"
   ]
  },
  {
   "cell_type": "code",
   "execution_count": 57,
   "id": "f43ddf7c-b3eb-432a-9ad9-51e28171574b",
   "metadata": {},
   "outputs": [
    {
     "name": "stderr",
     "output_type": "stream",
     "text": [
      "/Users/arturtanona/Documents/coursera/unsupervised-machine-learning/week4/old-one/venv/lib/python3.10/site-packages/sklearn/feature_extraction/text.py:408: UserWarning: Your stop_words may be inconsistent with your preprocessing. Tokenizing the stop words generated tokens ['herse', 'himse', 'itse', 'mon', 'myse', 'positivea'] not in stop_words.\n",
      "  warnings.warn(\n"
     ]
    }
   ],
   "source": [
    "positive_2_gram = get_top_ngram(\"positive\", 2)"
   ]
  },
  {
   "cell_type": "code",
   "execution_count": 58,
   "id": "ef5b092d-0743-4455-a323-0381187ee62b",
   "metadata": {},
   "outputs": [
    {
     "data": {
      "text/plain": [
       "<Axes: >"
      ]
     },
     "execution_count": 58,
     "metadata": {},
     "output_type": "execute_result"
    },
    {
     "data": {
      "image/png": "[encoded data removed]",
      "text/plain": [
       "<Figure size 640x480 with 1 Axes>"
      ]
     },
     "metadata": {},
     "output_type": "display_data"
    }
   ],
   "source": [
    "x, y = map(list, zip(*positive_2_gram.words_freq[:20]))\n",
    "sns.barplot(x=y, y=x)"
   ]
  },
  {
   "cell_type": "code",
   "execution_count": 59,
   "id": "6a2d5c35-2b80-40d8-9e0f-52a455af973a",
   "metadata": {},
   "outputs": [
    {
     "name": "stderr",
     "output_type": "stream",
     "text": [
      "/Users/arturtanona/Documents/coursera/unsupervised-machine-learning/week4/old-one/venv/lib/python3.10/site-packages/sklearn/feature_extraction/text.py:408: UserWarning: Your stop_words may be inconsistent with your preprocessing. Tokenizing the stop words generated tokens ['herse', 'himse', 'itse', 'mon', 'myse', 'positivea'] not in stop_words.\n",
      "  warnings.warn(\n"
     ]
    }
   ],
   "source": [
    "positive_3_gram = get_top_ngram(\"positive\", 3)"
   ]
  },
  {
   "cell_type": "code",
   "execution_count": 60,
   "id": "807f394c-69d9-4faf-bf75-3958f9ee7d3a",
   "metadata": {},
   "outputs": [
    {
     "data": {
      "text/plain": [
       "<Axes: >"
      ]
     },
     "execution_count": 60,
     "metadata": {},
     "output_type": "execute_result"
    },
    {
     "data": {
      "image/png": "[encoded data removed]",
      "text/plain": [
       "<Figure size 640x480 with 1 Axes>"
      ]
     },
     "metadata": {},
     "output_type": "display_data"
    }
   ],
   "source": [
    "x, y = map(list, zip(*positive_3_gram.words_freq[:20]))\n",
    "sns.barplot(x=y, y=x)"
   ]
  },
  {
   "cell_type": "markdown",
   "id": "7b30615f-7270-43d6-9cb0-498e37604cad",
   "metadata": {},
   "source": [
    "## Negative ngrams"
   ]
  },
  {
   "cell_type": "code",
   "execution_count": 61,
   "id": "20c59143-3cab-43ed-bc47-29d849bb707a",
   "metadata": {},
   "outputs": [
    {
     "name": "stderr",
     "output_type": "stream",
     "text": [
      "/Users/arturtanona/Documents/coursera/unsupervised-machine-learning/week4/old-one/venv/lib/python3.10/site-packages/sklearn/feature_extraction/text.py:408: UserWarning: Your stop_words may be inconsistent with your preprocessing. Tokenizing the stop words generated tokens ['herse', 'himse', 'itse', 'mon', 'myse', 'positivea'] not in stop_words.\n",
      "  warnings.warn(\n"
     ]
    }
   ],
   "source": [
    "negative_1_gram = get_top_ngram(\"negative\", 1)"
   ]
  },
  {
   "cell_type": "code",
   "execution_count": 62,
   "id": "3357c831-20b3-40a8-b61d-8b1ee3b3aaf3",
   "metadata": {},
   "outputs": [
    {
     "data": {
      "text/plain": [
       "<Axes: >"
      ]
     },
     "execution_count": 62,
     "metadata": {},
     "output_type": "execute_result"
    },
    {
     "data": {
      "image/png": "[encoded data removed]",
      "text/plain": [
       "<Figure size 640x480 with 1 Axes>"
      ]
     },
     "metadata": {},
     "output_type": "display_data"
    }
   ],
   "source": [
    "x, y = map(list, zip(*negative_1_gram.words_freq[:20]))\n",
    "sns.barplot(x=y, y=x)"
   ]
  },
  {
   "cell_type": "code",
   "execution_count": 63,
   "id": "293b90f6-055a-4d00-b36f-ac8f75fa098b",
   "metadata": {},
   "outputs": [
    {
     "name": "stderr",
     "output_type": "stream",
     "text": [
      "/Users/arturtanona/Documents/coursera/unsupervised-machine-learning/week4/old-one/venv/lib/python3.10/site-packages/sklearn/feature_extraction/text.py:408: UserWarning: Your stop_words may be inconsistent with your preprocessing. Tokenizing the stop words generated tokens ['herse', 'himse', 'itse', 'mon', 'myse', 'positivea'] not in stop_words.\n",
      "  warnings.warn(\n"
     ]
    }
   ],
   "source": [
    "negative_2_gram = get_top_ngram(\"negative\", 2)"
   ]
  },
  {
   "cell_type": "code",
   "execution_count": 64,
   "id": "59c9f935-a996-4cd3-bebf-d37defec77c0",
   "metadata": {},
   "outputs": [
    {
     "data": {
      "text/plain": [
       "<Axes: >"
      ]
     },
     "execution_count": 64,
     "metadata": {},
     "output_type": "execute_result"
    },
    {
     "data": {
      "image/png": "[encoded data removed]",
      "text/plain": [
       "<Figure size 640x480 with 1 Axes>"
      ]
     },
     "metadata": {},
     "output_type": "display_data"
    }
   ],
   "source": [
    "x, y = map(list, zip(*negative_2_gram.words_freq[:20]))\n",
    "sns.barplot(x=y, y=x)"
   ]
  },
  {
   "cell_type": "code",
   "execution_count": 65,
   "id": "bd37a8b7-44ef-435b-b947-34e14f20991c",
   "metadata": {},
   "outputs": [
    {
     "name": "stderr",
     "output_type": "stream",
     "text": [
      "/Users/arturtanona/Documents/coursera/unsupervised-machine-learning/week4/old-one/venv/lib/python3.10/site-packages/sklearn/feature_extraction/text.py:408: UserWarning: Your stop_words may be inconsistent with your preprocessing. Tokenizing the stop words generated tokens ['herse', 'himse', 'itse', 'mon', 'myse', 'positivea'] not in stop_words.\n",
      "  warnings.warn(\n"
     ]
    }
   ],
   "source": [
    "negative_3_gram = get_top_ngram(\"negative\", 3)"
   ]
  },
  {
   "cell_type": "code",
   "execution_count": 66,
   "id": "0a4c0993-523f-4163-b26f-10d1adf61050",
   "metadata": {},
   "outputs": [
    {
     "data": {
      "text/plain": [
       "<Axes: >"
      ]
     },
     "execution_count": 66,
     "metadata": {},
     "output_type": "execute_result"
    },
    {
     "data": {
      "image/png": "[encoded data removed]",
      "text/plain": [
       "<Figure size 640x480 with 1 Axes>"
      ]
     },
     "metadata": {},
     "output_type": "display_data"
    }
   ],
   "source": [
    "x, y = map(list, zip(*negative_3_gram.words_freq[:20]))\n",
    "sns.barplot(x=y, y=x)"
   ]
  },
  {
   "cell_type": "markdown",
   "id": "97434dd0-3d69-4c01-b895-b05b587e53f2",
   "metadata": {},
   "source": [
    "## Mixed ngrams"
   ]
  },
  {
   "cell_type": "code",
   "execution_count": 67,
   "id": "3af6c2d8-d35d-48a7-8619-faa8a1cd704a",
   "metadata": {},
   "outputs": [
    {
     "name": "stderr",
     "output_type": "stream",
     "text": [
      "/Users/arturtanona/Documents/coursera/unsupervised-machine-learning/week4/old-one/venv/lib/python3.10/site-packages/sklearn/feature_extraction/text.py:408: UserWarning: Your stop_words may be inconsistent with your preprocessing. Tokenizing the stop words generated tokens ['herse', 'himse', 'itse', 'mon', 'myse', 'positivea'] not in stop_words.\n",
      "  warnings.warn(\n"
     ]
    }
   ],
   "source": [
    "mixed_1_gram = get_top_ngram(\"mixed\", 1)"
   ]
  },
  {
   "cell_type": "code",
   "execution_count": 68,
   "id": "0b0a8bb9-3d4b-4bad-a2d8-f0bdc37e6d42",
   "metadata": {},
   "outputs": [
    {
     "data": {
      "text/plain": [
       "<Axes: >"
      ]
     },
     "execution_count": 68,
     "metadata": {},
     "output_type": "execute_result"
    },
    {
     "data": {
      "image/png": "[encoded data removed]",
      "text/plain": [
       "<Figure size 640x480 with 1 Axes>"
      ]
     },
     "metadata": {},
     "output_type": "display_data"
    }
   ],
   "source": [
    "x, y = map(list, zip(*mixed_1_gram.words_freq[:20]))\n",
    "sns.barplot(x=y, y=x)"
   ]
  },
  {
   "cell_type": "code",
   "execution_count": 69,
   "id": "0ac4e3f1-b6a5-4849-844f-e7d65682d1dd",
   "metadata": {},
   "outputs": [
    {
     "name": "stderr",
     "output_type": "stream",
     "text": [
      "/Users/arturtanona/Documents/coursera/unsupervised-machine-learning/week4/old-one/venv/lib/python3.10/site-packages/sklearn/feature_extraction/text.py:408: UserWarning: Your stop_words may be inconsistent with your preprocessing. Tokenizing the stop words generated tokens ['herse', 'himse', 'itse', 'mon', 'myse', 'positivea'] not in stop_words.\n",
      "  warnings.warn(\n"
     ]
    }
   ],
   "source": [
    "mixed_2_gram = get_top_ngram(\"mixed\", 2)"
   ]
  },
  {
   "cell_type": "code",
   "execution_count": 70,
   "id": "7248c17d-9806-4227-97af-0fbae52623ca",
   "metadata": {},
   "outputs": [
    {
     "data": {
      "text/plain": [
       "<Axes: >"
      ]
     },
     "execution_count": 70,
     "metadata": {},
     "output_type": "execute_result"
    },
    {
     "data": {
      "image/png": "[encoded data removed]",
      "text/plain": [
       "<Figure size 640x480 with 1 Axes>"
      ]
     },
     "metadata": {},
     "output_type": "display_data"
    }
   ],
   "source": [
    "x, y = map(list, zip(*mixed_2_gram.words_freq[:20]))\n",
    "sns.barplot(x=y, y=x)"
   ]
  },
  {
   "cell_type": "code",
   "execution_count": 71,
   "id": "d03383c7-a0a7-4158-b56d-93ca0ed19ab8",
   "metadata": {},
   "outputs": [
    {
     "name": "stderr",
     "output_type": "stream",
     "text": [
      "/Users/arturtanona/Documents/coursera/unsupervised-machine-learning/week4/old-one/venv/lib/python3.10/site-packages/sklearn/feature_extraction/text.py:408: UserWarning: Your stop_words may be inconsistent with your preprocessing. Tokenizing the stop words generated tokens ['herse', 'himse', 'itse', 'mon', 'myse', 'positivea'] not in stop_words.\n",
      "  warnings.warn(\n"
     ]
    }
   ],
   "source": [
    "mixed_3_gram = get_top_ngram(\"mixed\", 3)"
   ]
  },
  {
   "cell_type": "code",
   "execution_count": 72,
   "id": "bd7886f1-f42e-4710-a48d-25f33271ea22",
   "metadata": {},
   "outputs": [
    {
     "data": {
      "text/plain": [
       "<Axes: >"
      ]
     },
     "execution_count": 72,
     "metadata": {},
     "output_type": "execute_result"
    },
    {
     "data": {
      "image/png": "[encoded data removed]",
      "text/plain": [
       "<Figure size 640x480 with 1 Axes>"
      ]
     },
     "metadata": {},
     "output_type": "display_data"
    }
   ],
   "source": [
    "x, y = map(list, zip(*mixed_3_gram.words_freq[:20]))\n",
    "sns.barplot(x=y, y=x)"
   ]
  },
  {
   "cell_type": "markdown",
   "id": "716a5c74-e552-475d-bba5-c3c03fd5b72c",
   "metadata": {},
   "source": [
    "# Other features"
   ]
  },
  {
   "cell_type": "code",
   "execution_count": 73,
   "id": "be0d8ee4-322a-473d-bf4e-4fbf64b84c65",
   "metadata": {},
   "outputs": [],
   "source": [
    "train_data[\"total_length\"] = train_data[\"reviewText\"].apply(lambda x: len(x))\n",
    "train_data[\"num_exclamation_marks\"] = train_data[\"reviewText\"].apply(\n",
    "    lambda comment: comment.count(\"!\")\n",
    ")\n",
    "train_data[\"num_question_marks\"] = train_data[\"reviewText\"].apply(\n",
    "    lambda comment: comment.count(\"?\")\n",
    ")\n",
    "train_data[\"num_punctuation\"] = train_data[\"reviewText\"].apply(\n",
    "    lambda comment: sum(comment.count(w) for w in \".,;:\")\n",
    ")\n",
    "train_data[\"num_symbols\"] = train_data[\"reviewText\"].apply(\n",
    "    lambda comment: sum(comment.count(w) for w in \"*&$%\")\n",
    ")"
   ]
  },
  {
   "cell_type": "code",
   "execution_count": 74,
   "id": "3f99b62e-1766-4f7f-b3b0-5cfbd7a37a23",
   "metadata": {},
   "outputs": [],
   "source": [
    "train_data[\"mapped_sentiment\"] = train_data[\"sentiment\"].apply(\n",
    "    lambda x: MAPPING_SENTIMENT_TO_NUMBER[x]\n",
    ")"
   ]
  },
  {
   "cell_type": "code",
   "execution_count": 75,
   "id": "cf452f26-f43d-4b8c-8927-1316e32dedae",
   "metadata": {},
   "outputs": [],
   "source": [
    "corr = train_data[train_data[\"sentiment\"].isin([\"positive\", \"negative\"])][\n",
    "    [\n",
    "        \"total_length\",\n",
    "        \"num_exclamation_marks\",\n",
    "        \"num_question_marks\",\n",
    "        \"num_punctuation\",\n",
    "        \"num_symbols\",\n",
    "        \"mapped_sentiment\",\n",
    "    ]\n",
    "].corr()"
   ]
  },
  {
   "cell_type": "code",
   "execution_count": 76,
   "id": "9929b0a8-8e28-4591-b0b7-17aba131b944",
   "metadata": {},
   "outputs": [
    {
     "name": "stderr",
     "output_type": "stream",
     "text": [
      "06-24 20:30 matplotlib.colorbar DEBUG    locator: <matplotlib.ticker.AutoLocator object at 0x4a81cfee0>\n"
     ]
    },
    {
     "data": {
      "text/plain": [
       "<Axes: >"
      ]
     },
     "execution_count": 76,
     "metadata": {},
     "output_type": "execute_result"
    },
    {
     "data": {
      "image/png": "[encoded data removed]",
      "text/plain": [
       "<Figure size 640x480 with 2 Axes>"
      ]
     },
     "metadata": {},
     "output_type": "display_data"
    }
   ],
   "source": [
    "sns.heatmap(corr, xticklabels=corr.columns, yticklabels=corr.columns, annot=True)"
   ]
  },
  {
   "cell_type": "markdown",
   "id": "1feeeafd-be35-4908-9c19-9047d8d58069",
   "metadata": {},
   "source": [
    "We can see that punctuation those features are not correlated with mapped sentiment. It means that we can remove them from the analysis."
   ]
  },
  {
   "cell_type": "markdown",
   "id": "8e2dd534-b4e8-421e-a103-c0d87b85b6e1",
   "metadata": {},
   "source": [
    "Source of idea: https://www.kaggle.com/nz0722/simple-eda-text-preprocessing-jigsaw"
   ]
  },
  {
   "cell_type": "markdown",
   "id": "4ceadd5e-3170-497b-af44-e934ac7d7334",
   "metadata": {},
   "source": [
    "# Lengths"
   ]
  },
  {
   "cell_type": "markdown",
   "id": "1775275d-9fd4-411f-a46c-6fad07fa33e7",
   "metadata": {},
   "source": [
    "Most of the reviews are between 0 and 500 characters length."
   ]
  },
  {
   "cell_type": "code",
   "execution_count": 77,
   "id": "2842e7b4",
   "metadata": {},
   "outputs": [],
   "source": [
    "lengths = train_data.reviewText.apply(lambda x: len(x.split()))"
   ]
  },
  {
   "cell_type": "code",
   "execution_count": 78,
   "id": "51557bd6",
   "metadata": {},
   "outputs": [
    {
     "data": {
      "text/plain": [
       "<Axes: ylabel='Frequency'>"
      ]
     },
     "execution_count": 78,
     "metadata": {},
     "output_type": "execute_result"
    },
    {
     "data": {
      "image/png": "[encoded data removed]",
      "text/plain": [
       "<Figure size 640x480 with 1 Axes>"
      ]
     },
     "metadata": {},
     "output_type": "display_data"
    }
   ],
   "source": [
    "lengths.plot.hist(bins=100)"
   ]
  },
  {
   "cell_type": "code",
   "execution_count": 79,
   "id": "bbd607e4-7ede-4e18-b407-eca8c94df556",
   "metadata": {},
   "outputs": [],
   "source": [
    "train_data[\"lengths\"] = lengths"
   ]
  },
  {
   "cell_type": "code",
   "execution_count": 80,
   "id": "54a8dfc3",
   "metadata": {},
   "outputs": [],
   "source": [
    "train_data = train_data[train_data[\"lengths\"] < 1000].reset_index(drop=True)"
   ]
  },
  {
   "cell_type": "code",
   "execution_count": 81,
   "id": "1412f0e6",
   "metadata": {},
   "outputs": [],
   "source": [
    "train_data = train_data[\n",
    "    (1000 > train_data[\"lengths\"]) & (train_data[\"lengths\"] > 10)\n",
    "].reset_index(drop=True)"
   ]
  },
  {
   "cell_type": "code",
   "execution_count": 82,
   "id": "43e33c89-4d40-4e4f-a9c2-c73e37a1ec30",
   "metadata": {},
   "outputs": [],
   "source": [
    "train_data.to_csv(\"../data/final_train_data.csv\")"
   ]
  },
  {
   "cell_type": "markdown",
   "id": "6453ea85-5edd-4827-8682-6ad40943d114",
   "metadata": {},
   "source": [
    "# Next steps - topic modelling with unsupervised ML algorithm!\n",
    "\n",
    "Punctuation is important from the perspective of sentence embedding transformer - it can change the entire context of information. On the other hand, in the traditional ML (e.g. TfIDF) it should be pruned. So let's TFIDF-vectorize data and train some topic model.\n",
    "\n",
    "\n",
    "Topic modeling is a statistical approach in machine learning and natural language processing designed to uncover abstract topics within a set of documents. These models facilitate the exploration and comprehension of extensive text data by detecting patterns in word co-occurrence.\n",
    "\n",
    "There are many applications for topic modeling. In information retrieval, it enhances search results by organizing and grouping related documents. In recommendation systems, it improves user experience by suggesting content based on identified themes. Additionally, it is utilized in social media analysis to measure public sentiment and trends by pinpointing common topics in user-generated content. This can answer the following question:"
   ]
  },
  {
   "cell_type": "markdown",
   "id": "2cf1ee6a-f3be-46c5-a377-33e3fd52a09f",
   "metadata": {},
   "source": [
    "## What topics get the worst reviews? "
   ]
  },
  {
   "cell_type": "markdown",
   "id": "87251603-dc0c-4f00-b3f1-91f7d5177fa6",
   "metadata": {},
   "source": [
    "# Libraries"
   ]
  },
  {
   "cell_type": "code",
   "execution_count": 1,
   "id": "e0c23a17-2a7f-4a56-94c2-5090da815141",
   "metadata": {
    "editable": true,
    "slideshow": {
     "slide_type": ""
    },
    "tags": []
   },
   "outputs": [
    {
     "name": "stdout",
     "output_type": "stream",
     "text": [
      "INFO: Pandarallel will run on 10 workers.\n",
      "INFO: Pandarallel will use standard multiprocessing data transfer (pipe) to transfer data between the main process and workers.\n"
     ]
    },
    {
     "name": "stderr",
     "output_type": "stream",
     "text": [
      "/Users/arturtanona/Documents/coursera/unsupervised-machine-learning/week4/old-one/venv/lib/python3.10/site-packages/sentence_transformers/cross_encoder/CrossEncoder.py:11: TqdmExperimentalWarning: Using `tqdm.autonotebook.tqdm` in notebook mode. Use `tqdm.tqdm` instead to force console mode (e.g. in jupyter console)\n",
      "  from tqdm.autonotebook import tqdm, trange\n"
     ]
    }
   ],
   "source": [
    "from pandarallel import pandarallel\n",
    "import numpy as np\n",
    "\n",
    "pandarallel.initialize(progress_bar=True, nb_workers=10)\n",
    "import pandas as pd\n",
    "import json\n",
    "import re\n",
    "from dataclasses import dataclass\n",
    "from nltk.stem.snowball import SnowballStemmer\n",
    "from tqdm import tqdm\n",
    "import demoji\n",
    "import emoji\n",
    "from glob import glob\n",
    "import seaborn as sns\n",
    "from sklearn.feature_extraction.text import CountVectorizer, TfidfVectorizer\n",
    "import nltk\n",
    "import pandas as pd\n",
    "from nltk.corpus import stopwords\n",
    "import pandas as pd\n",
    "import random\n",
    "from sklearn.decomposition import TruncatedSVD\n",
    "import seaborn as sns\n",
    "from sklearn.model_selection import train_test_split\n",
    "import string\n",
    "from sklearn.experimental import enable_halving_search_cv\n",
    "from sklearn.model_selection import HalvingGridSearchCV\n",
    "import sys\n",
    "from matplotlib import pyplot\n",
    "from sklearn.model_selection import cross_val_score\n",
    "from sklearn.linear_model import LogisticRegression\n",
    "from sklearn.neighbors import KNeighborsClassifier\n",
    "from sklearn.tree import DecisionTreeClassifier\n",
    "from sklearn.svm import SVC\n",
    "from sklearn.ensemble import AdaBoostClassifier\n",
    "from sklearn.ensemble import RandomForestClassifier\n",
    "import sentence_transformers\n",
    "from sklearn.cluster import AgglomerativeClustering\n",
    "from keybert.backend import SentenceTransformerBackend\n",
    "import seaborn as sns\n",
    "import xgboost\n",
    "from sklearn.model_selection import GridSearchCV\n",
    "from sklearn.ensemble import RandomForestClassifier, AdaBoostClassifier\n",
    "from sklearn.linear_model import LogisticRegression\n",
    "from sklearn.neighbors import KNeighborsClassifier\n",
    "import xgboost as xgb\n",
    "import numpy as np\n",
    "import math\n",
    "from keybert import KeyBERT\n",
    "from tqdm.autonotebook import tqdm, trange\n",
    "import time\n",
    "from sklearn.cluster import KMeans\n",
    "from sklearn.datasets import make_blobs\n",
    "import matplotlib.pyplot as plt\n",
    "import itertools\n",
    "from sklearn.model_selection import StratifiedKFold\n",
    "\n",
    "sys.path.append(\"..\")"
   ]
  },
  {
   "cell_type": "markdown",
   "id": "73c21f8f-a421-495f-9a42-d886b3e9b110",
   "metadata": {},
   "source": [
    "# Prepare vectors"
   ]
  },
  {
   "cell_type": "markdown",
   "id": "56039afa-1c1f-4e07-a23b-54b980b81341",
   "metadata": {},
   "source": [
    "### Load data"
   ]
  },
  {
   "cell_type": "code",
   "execution_count": 2,
   "id": "c51f9c84-c4fb-44f9-bb0d-beaa4b15ab16",
   "metadata": {},
   "outputs": [],
   "source": [
    "DATA_PATH = \"../data/final_train_data.csv\"\n",
    "train_data = pd.read_csv(DATA_PATH, index_col=0)"
   ]
  },
  {
   "cell_type": "markdown",
   "id": "ef77e1bf-aec7-42b3-9c5e-9cdccf32e612",
   "metadata": {},
   "source": [
    "## TfIDFVectors"
   ]
  },
  {
   "cell_type": "markdown",
   "id": "71d58615-7954-40bb-9b15-4a091525127a",
   "metadata": {},
   "source": [
    "We will use the TFIDF vectorizer as a simple encoder (note: it's not a real transformer) to feed arrays into the KMeans model.\n",
    "\n",
    "The Term Frequency-Inverse Document Frequency (TF-IDF) vectorizer is a statistical tool utilized in natural language processing and information retrieval to assess the significance of a word within a document relative to a larger set of documents, known as a corpus. It is often used to convert text data into numerical vectors that can serve as input for machine learning models.\n",
    "\n",
    "How does it work? We need to understand two terms:\n",
    "\n",
    "Term Frequency (TF): How frequently a term appears in a document.\n",
    "\n",
    "Inverse Document Frequency (IDF): Reduces the significance of words that are common across all documents.\n",
    "The process is as follows:\n",
    "\n",
    "The text is broken down into words (tokens), typically converted to lowercase, and common stop words may be removed.\n",
    "For each term in each document, compute the term frequency.\n",
    "Compute the IDF value for each term across the entire corpus.\n",
    "Multiply the TF value by the IDF value for each term, forming a vector for each document.\n",
    "\n",
    "NOTE: this part of description was used by me also for BBC - week 4 assignment."
   ]
  },
  {
   "cell_type": "code",
   "execution_count": 3,
   "id": "94092b50-4141-445f-94d6-7568bf05d342",
   "metadata": {},
   "outputs": [
    {
     "name": "stderr",
     "output_type": "stream",
     "text": [
      "[nltk_data] Error loading stopwords: <urlopen error [SSL:\n",
      "[nltk_data]     CERTIFICATE_VERIFY_FAILED] certificate verify failed:\n",
      "[nltk_data]     unable to get local issuer certificate (_ssl.c:997)>\n"
     ]
    }
   ],
   "source": [
    "nltk.download(\"stopwords\")\n",
    "word_list = list(stopwords.words(\"english\"))\n",
    "\n",
    "stop_words = [\n",
    "    word\n",
    "    for word in word_list\n",
    "    if word not in [\"not\", \"no\", \"i\", \"my\", \"but\", \"my\", \"myself\"]\n",
    "]\n",
    "stop_words += [punct for punct in string.punctuation]\n",
    "vectorizer = CountVectorizer(stop_words=stop_words)\n",
    "cv_fit = vectorizer.fit_transform(train_data.text_lematized)\n",
    "\n",
    "words = np.asarray(cv_fit.sum(axis=0))\n",
    "\n",
    "id2word = {id: word for word, id in vectorizer.vocabulary_.items()}"
   ]
  },
  {
   "cell_type": "code",
   "execution_count": 4,
   "id": "9320cbc7-3857-4e97-b84a-f40f2933bdcc",
   "metadata": {},
   "outputs": [],
   "source": [
    "condition_range = np.logical_and(1000 > words[0], words[0] > 1)\n",
    "\n",
    "new_stop_words = []\n",
    "for i in np.argwhere(~condition_range):\n",
    "    new_stop_words.append(id2word[i[0]])\n",
    "\n",
    "keep_words = []\n",
    "for i in np.argwhere(condition_range):\n",
    "    keep_words.append(id2word[i[0]])\n",
    "\n",
    "digit_pattern = re.compile(\"\\d+\")\n",
    "\n",
    "keep_words = set([word for word in keep_words if not digit_pattern.search(word)])\n",
    "\n",
    "len(new_stop_words), len(keep_words)\n",
    "text_lemmatized = [\n",
    "    \" \".join([word.lower() for word in text.split() if word.lower() in keep_words])\n",
    "    for text in train_data.text_lematized\n",
    "]\n",
    "\n",
    "train_data[\"text_lematized\"] = text_lemmatized"
   ]
  },
  {
   "cell_type": "code",
   "execution_count": 5,
   "id": "22a363bb-0f0c-4c83-8a30-d5e7d1288b2a",
   "metadata": {},
   "outputs": [],
   "source": [
    "train_data.to_csv(\"../data/lemmatized_data_final.csv\")"
   ]
  },
  {
   "cell_type": "markdown",
   "id": "79e86458-4fb9-4d32-92f8-6d9d786db84d",
   "metadata": {},
   "source": [
    "# Prepare sampled data"
   ]
  },
  {
   "cell_type": "code",
   "execution_count": 6,
   "id": "ab867e59-9220-458f-930d-49d13075aff0",
   "metadata": {
    "scrolled": true
   },
   "outputs": [
    {
     "data": {
      "text/html": [
       "<div>\n",
       "<style scoped>\n",
       "    .dataframe tbody tr th:only-of-type {\n",
       "        vertical-align: middle;\n",
       "    }\n",
       "\n",
       "    .dataframe tbody tr th {\n",
       "        vertical-align: top;\n",
       "    }\n",
       "\n",
       "    .dataframe thead th {\n",
       "        text-align: right;\n",
       "    }\n",
       "</style>\n",
       "<table border=\"1\" class=\"dataframe\">\n",
       "  <thead>\n",
       "    <tr style=\"text-align: right;\">\n",
       "      <th></th>\n",
       "      <th>asin</th>\n",
       "      <th>title</th>\n",
       "      <th>price</th>\n",
       "      <th>userId</th>\n",
       "      <th>profileName</th>\n",
       "      <th>reviewHelpfulness</th>\n",
       "      <th>overall</th>\n",
       "      <th>reviewTime</th>\n",
       "      <th>reviewSummary</th>\n",
       "      <th>reviewText</th>\n",
       "      <th>...</th>\n",
       "      <th>text_lematized</th>\n",
       "      <th>length</th>\n",
       "      <th>sentiment</th>\n",
       "      <th>total_length</th>\n",
       "      <th>num_exclamation_marks</th>\n",
       "      <th>num_question_marks</th>\n",
       "      <th>num_punctuation</th>\n",
       "      <th>num_symbols</th>\n",
       "      <th>mapped_sentiment</th>\n",
       "      <th>lengths</th>\n",
       "    </tr>\n",
       "  </thead>\n",
       "  <tbody>\n",
       "    <tr>\n",
       "      <th>0</th>\n",
       "      <td>0829814000</td>\n",
       "      <td>Wonderful Worship in Smaller Churches</td>\n",
       "      <td>19.40</td>\n",
       "      <td>AZ0IOBU20TBOP</td>\n",
       "      <td>Rev. Pamela Tinnin</td>\n",
       "      <td>8/10</td>\n",
       "      <td>5.0</td>\n",
       "      <td>991440000</td>\n",
       "      <td>Outstanding Resource for Small Church Pastors</td>\n",
       "      <td>i just finished the book, \" wonderful Worship ...</td>\n",
       "      <td>...</td>\n",
       "      <td>worship smaller churches ray pastor reread reg...</td>\n",
       "      <td>788</td>\n",
       "      <td>positive</td>\n",
       "      <td>788</td>\n",
       "      <td>0</td>\n",
       "      <td>0</td>\n",
       "      <td>16</td>\n",
       "      <td>0</td>\n",
       "      <td>2</td>\n",
       "      <td>143</td>\n",
       "    </tr>\n",
       "    <tr>\n",
       "      <th>1</th>\n",
       "      <td>0829814000</td>\n",
       "      <td>Wonderful Worship in Smaller Churches</td>\n",
       "      <td>19.40</td>\n",
       "      <td>A373VVEU6Z9M0N</td>\n",
       "      <td>Dr. Terry W. Dorsett</td>\n",
       "      <td>1/1</td>\n",
       "      <td>5.0</td>\n",
       "      <td>1291766400</td>\n",
       "      <td>Small Churches CAN Have Wonderful Worship</td>\n",
       "      <td>Many small churches feel like they can not hav...</td>\n",
       "      <td>...</td>\n",
       "      <td>worship ray thou shalt humorous encouragement</td>\n",
       "      <td>349</td>\n",
       "      <td>positive</td>\n",
       "      <td>349</td>\n",
       "      <td>0</td>\n",
       "      <td>0</td>\n",
       "      <td>5</td>\n",
       "      <td>0</td>\n",
       "      <td>2</td>\n",
       "      <td>61</td>\n",
       "    </tr>\n",
       "    <tr>\n",
       "      <th>2</th>\n",
       "      <td>0829814000</td>\n",
       "      <td>Wonderful Worship in Smaller Churches</td>\n",
       "      <td>19.40</td>\n",
       "      <td>AGKGOH65VTRR4</td>\n",
       "      <td>Cynthia L. Lajoy \"Cindy La Joy\"</td>\n",
       "      <td>1/1</td>\n",
       "      <td>5.0</td>\n",
       "      <td>1248307200</td>\n",
       "      <td>Not Just for Pastors!</td>\n",
       "      <td>i just finished reading this amazing book and ...</td>\n",
       "      <td>...</td>\n",
       "      <td>entirely congregation ministry depressed accom...</td>\n",
       "      <td>1273</td>\n",
       "      <td>positive</td>\n",
       "      <td>1273</td>\n",
       "      <td>2</td>\n",
       "      <td>0</td>\n",
       "      <td>15</td>\n",
       "      <td>0</td>\n",
       "      <td>2</td>\n",
       "      <td>225</td>\n",
       "    </tr>\n",
       "    <tr>\n",
       "      <th>3</th>\n",
       "      <td>0829814000</td>\n",
       "      <td>Wonderful Worship in Smaller Churches</td>\n",
       "      <td>19.40</td>\n",
       "      <td>A3OQWLU31BU1Y</td>\n",
       "      <td>Maxwell Grant</td>\n",
       "      <td>1/1</td>\n",
       "      <td>5.0</td>\n",
       "      <td>1222560000</td>\n",
       "      <td>Small church pastor? This is the book on worship</td>\n",
       "      <td>i had not been a small church pastor very long...</td>\n",
       "      <td>...</td>\n",
       "      <td>pastor ray handful anthony pa pp carl dudley r...</td>\n",
       "      <td>1022</td>\n",
       "      <td>positive</td>\n",
       "      <td>1022</td>\n",
       "      <td>1</td>\n",
       "      <td>0</td>\n",
       "      <td>20</td>\n",
       "      <td>0</td>\n",
       "      <td>2</td>\n",
       "      <td>192</td>\n",
       "    </tr>\n",
       "    <tr>\n",
       "      <th>4</th>\n",
       "      <td>0595344550</td>\n",
       "      <td>Whispers of the Wicked Saints</td>\n",
       "      <td>10.95</td>\n",
       "      <td>A3Q12RK71N74LB</td>\n",
       "      <td>Book Reader</td>\n",
       "      <td>7/11</td>\n",
       "      <td>1.0</td>\n",
       "      <td>1117065600</td>\n",
       "      <td>not good</td>\n",
       "      <td>i bought this book because i read some glowing...</td>\n",
       "      <td>...</td>\n",
       "      <td>glow praise criticise urgent editing possibly ...</td>\n",
       "      <td>1023</td>\n",
       "      <td>negative</td>\n",
       "      <td>1023</td>\n",
       "      <td>0</td>\n",
       "      <td>2</td>\n",
       "      <td>21</td>\n",
       "      <td>0</td>\n",
       "      <td>0</td>\n",
       "      <td>181</td>\n",
       "    </tr>\n",
       "    <tr>\n",
       "      <th>...</th>\n",
       "      <td>...</td>\n",
       "      <td>...</td>\n",
       "      <td>...</td>\n",
       "      <td>...</td>\n",
       "      <td>...</td>\n",
       "      <td>...</td>\n",
       "      <td>...</td>\n",
       "      <td>...</td>\n",
       "      <td>...</td>\n",
       "      <td>...</td>\n",
       "      <td>...</td>\n",
       "      <td>...</td>\n",
       "      <td>...</td>\n",
       "      <td>...</td>\n",
       "      <td>...</td>\n",
       "      <td>...</td>\n",
       "      <td>...</td>\n",
       "      <td>...</td>\n",
       "      <td>...</td>\n",
       "      <td>...</td>\n",
       "      <td>...</td>\n",
       "    </tr>\n",
       "    <tr>\n",
       "      <th>128556</th>\n",
       "      <td>061813512X</td>\n",
       "      <td>The Complete Meat Cookbook</td>\n",
       "      <td>23.10</td>\n",
       "      <td>ASMJXT3DO4D02</td>\n",
       "      <td>Degalisto \"DCL\"</td>\n",
       "      <td>0/0</td>\n",
       "      <td>5.0</td>\n",
       "      <td>1265932800</td>\n",
       "      <td>good book</td>\n",
       "      <td>i am 58 and am a very good cook and i cook a l...</td>\n",
       "      <td>...</td>\n",
       "      <td>massive cooking meat stove oven cooking complaint</td>\n",
       "      <td>514</td>\n",
       "      <td>positive</td>\n",
       "      <td>514</td>\n",
       "      <td>0</td>\n",
       "      <td>0</td>\n",
       "      <td>11</td>\n",
       "      <td>0</td>\n",
       "      <td>2</td>\n",
       "      <td>105</td>\n",
       "    </tr>\n",
       "    <tr>\n",
       "      <th>128557</th>\n",
       "      <td>061813512X</td>\n",
       "      <td>The Complete Meat Cookbook</td>\n",
       "      <td>23.10</td>\n",
       "      <td>A1GC87J92WHHUJ</td>\n",
       "      <td>Karl E. Buettner</td>\n",
       "      <td>0/0</td>\n",
       "      <td>5.0</td>\n",
       "      <td>1264032000</td>\n",
       "      <td>Meat Bible</td>\n",
       "      <td>a must! Not only a great cookbook - the writte...</td>\n",
       "      <td>...</td>\n",
       "      <td>meat</td>\n",
       "      <td>102</td>\n",
       "      <td>positive</td>\n",
       "      <td>102</td>\n",
       "      <td>1</td>\n",
       "      <td>0</td>\n",
       "      <td>1</td>\n",
       "      <td>0</td>\n",
       "      <td>2</td>\n",
       "      <td>21</td>\n",
       "    </tr>\n",
       "    <tr>\n",
       "      <th>128558</th>\n",
       "      <td>061813512X</td>\n",
       "      <td>The Complete Meat Cookbook</td>\n",
       "      <td>23.10</td>\n",
       "      <td>AXQL0REDIA9C6</td>\n",
       "      <td>K. Wooley</td>\n",
       "      <td>0/0</td>\n",
       "      <td>5.0</td>\n",
       "      <td>1232150400</td>\n",
       "      <td>Fantastic - the best cookbook I own.</td>\n",
       "      <td>I have had this book for awhile now. You can j...</td>\n",
       "      <td>...</td>\n",
       "      <td>awhile meat meat perfectly</td>\n",
       "      <td>260</td>\n",
       "      <td>positive</td>\n",
       "      <td>260</td>\n",
       "      <td>1</td>\n",
       "      <td>0</td>\n",
       "      <td>4</td>\n",
       "      <td>0</td>\n",
       "      <td>2</td>\n",
       "      <td>48</td>\n",
       "    </tr>\n",
       "    <tr>\n",
       "      <th>128559</th>\n",
       "      <td>061813512X</td>\n",
       "      <td>The Complete Meat Cookbook</td>\n",
       "      <td>23.10</td>\n",
       "      <td>A2SUK9OWVNW9KU</td>\n",
       "      <td>Paula Ray</td>\n",
       "      <td>0/0</td>\n",
       "      <td>5.0</td>\n",
       "      <td>1031875200</td>\n",
       "      <td>The only guide you'll ever need.</td>\n",
       "      <td>This not only gives you recipes; it gives you ...</td>\n",
       "      <td>...</td>\n",
       "      <td>select meat ingredient roast steak lazy roast ...</td>\n",
       "      <td>392</td>\n",
       "      <td>positive</td>\n",
       "      <td>392</td>\n",
       "      <td>0</td>\n",
       "      <td>0</td>\n",
       "      <td>9</td>\n",
       "      <td>0</td>\n",
       "      <td>2</td>\n",
       "      <td>75</td>\n",
       "    </tr>\n",
       "    <tr>\n",
       "      <th>128560</th>\n",
       "      <td>061813512X</td>\n",
       "      <td>The Complete Meat Cookbook</td>\n",
       "      <td>23.10</td>\n",
       "      <td>A1QV4LNOHDE70C</td>\n",
       "      <td>Fawn Liebowitz</td>\n",
       "      <td>3/5</td>\n",
       "      <td>1.0</td>\n",
       "      <td>1340150400</td>\n",
       "      <td>Don't buy the Kindle Edition</td>\n",
       "      <td>This cookbook is excellent - comprehensive, re...</td>\n",
       "      <td>...</td>\n",
       "      <td>disaster xyz pan sauce sidebar dish spinach se...</td>\n",
       "      <td>468</td>\n",
       "      <td>negative</td>\n",
       "      <td>468</td>\n",
       "      <td>0</td>\n",
       "      <td>0</td>\n",
       "      <td>13</td>\n",
       "      <td>0</td>\n",
       "      <td>0</td>\n",
       "      <td>87</td>\n",
       "    </tr>\n",
       "  </tbody>\n",
       "</table>\n",
       "<p>128561 rows × 21 columns</p>\n",
       "</div>"
      ],
      "text/plain": [
       "              asin                                  title  price  \\\n",
       "0       0829814000  Wonderful Worship in Smaller Churches  19.40   \n",
       "1       0829814000  Wonderful Worship in Smaller Churches  19.40   \n",
       "2       0829814000  Wonderful Worship in Smaller Churches  19.40   \n",
       "3       0829814000  Wonderful Worship in Smaller Churches  19.40   \n",
       "4       0595344550          Whispers of the Wicked Saints  10.95   \n",
       "...            ...                                    ...    ...   \n",
       "128556  061813512X             The Complete Meat Cookbook  23.10   \n",
       "128557  061813512X             The Complete Meat Cookbook  23.10   \n",
       "128558  061813512X             The Complete Meat Cookbook  23.10   \n",
       "128559  061813512X             The Complete Meat Cookbook  23.10   \n",
       "128560  061813512X             The Complete Meat Cookbook  23.10   \n",
       "\n",
       "                userId                      profileName reviewHelpfulness  \\\n",
       "0        AZ0IOBU20TBOP               Rev. Pamela Tinnin              8/10   \n",
       "1       A373VVEU6Z9M0N             Dr. Terry W. Dorsett               1/1   \n",
       "2        AGKGOH65VTRR4  Cynthia L. Lajoy \"Cindy La Joy\"               1/1   \n",
       "3        A3OQWLU31BU1Y                    Maxwell Grant               1/1   \n",
       "4       A3Q12RK71N74LB                      Book Reader              7/11   \n",
       "...                ...                              ...               ...   \n",
       "128556   ASMJXT3DO4D02                  Degalisto \"DCL\"               0/0   \n",
       "128557  A1GC87J92WHHUJ                 Karl E. Buettner               0/0   \n",
       "128558   AXQL0REDIA9C6                        K. Wooley               0/0   \n",
       "128559  A2SUK9OWVNW9KU                        Paula Ray               0/0   \n",
       "128560  A1QV4LNOHDE70C                   Fawn Liebowitz               3/5   \n",
       "\n",
       "        overall  reviewTime                                     reviewSummary  \\\n",
       "0           5.0   991440000     Outstanding Resource for Small Church Pastors   \n",
       "1           5.0  1291766400         Small Churches CAN Have Wonderful Worship   \n",
       "2           5.0  1248307200                             Not Just for Pastors!   \n",
       "3           5.0  1222560000  Small church pastor? This is the book on worship   \n",
       "4           1.0  1117065600                                          not good   \n",
       "...         ...         ...                                               ...   \n",
       "128556      5.0  1265932800                                         good book   \n",
       "128557      5.0  1264032000                                        Meat Bible   \n",
       "128558      5.0  1232150400              Fantastic - the best cookbook I own.   \n",
       "128559      5.0  1031875200                  The only guide you'll ever need.   \n",
       "128560      1.0  1340150400                      Don't buy the Kindle Edition   \n",
       "\n",
       "                                               reviewText  ...  \\\n",
       "0       i just finished the book, \" wonderful Worship ...  ...   \n",
       "1       Many small churches feel like they can not hav...  ...   \n",
       "2       i just finished reading this amazing book and ...  ...   \n",
       "3       i had not been a small church pastor very long...  ...   \n",
       "4       i bought this book because i read some glowing...  ...   \n",
       "...                                                   ...  ...   \n",
       "128556  i am 58 and am a very good cook and i cook a l...  ...   \n",
       "128557  a must! Not only a great cookbook - the writte...  ...   \n",
       "128558  I have had this book for awhile now. You can j...  ...   \n",
       "128559  This not only gives you recipes; it gives you ...  ...   \n",
       "128560  This cookbook is excellent - comprehensive, re...  ...   \n",
       "\n",
       "                                           text_lematized length  sentiment  \\\n",
       "0       worship smaller churches ray pastor reread reg...    788   positive   \n",
       "1           worship ray thou shalt humorous encouragement    349   positive   \n",
       "2       entirely congregation ministry depressed accom...   1273   positive   \n",
       "3       pastor ray handful anthony pa pp carl dudley r...   1022   positive   \n",
       "4       glow praise criticise urgent editing possibly ...   1023   negative   \n",
       "...                                                   ...    ...        ...   \n",
       "128556  massive cooking meat stove oven cooking complaint    514   positive   \n",
       "128557                                               meat    102   positive   \n",
       "128558                         awhile meat meat perfectly    260   positive   \n",
       "128559  select meat ingredient roast steak lazy roast ...    392   positive   \n",
       "128560  disaster xyz pan sauce sidebar dish spinach se...    468   negative   \n",
       "\n",
       "       total_length  num_exclamation_marks  num_question_marks  \\\n",
       "0               788                      0                   0   \n",
       "1               349                      0                   0   \n",
       "2              1273                      2                   0   \n",
       "3              1022                      1                   0   \n",
       "4              1023                      0                   2   \n",
       "...             ...                    ...                 ...   \n",
       "128556          514                      0                   0   \n",
       "128557          102                      1                   0   \n",
       "128558          260                      1                   0   \n",
       "128559          392                      0                   0   \n",
       "128560          468                      0                   0   \n",
       "\n",
       "        num_punctuation  num_symbols  mapped_sentiment  lengths  \n",
       "0                    16            0                 2      143  \n",
       "1                     5            0                 2       61  \n",
       "2                    15            0                 2      225  \n",
       "3                    20            0                 2      192  \n",
       "4                    21            0                 0      181  \n",
       "...                 ...          ...               ...      ...  \n",
       "128556               11            0                 2      105  \n",
       "128557                1            0                 2       21  \n",
       "128558                4            0                 2       48  \n",
       "128559                9            0                 2       75  \n",
       "128560               13            0                 0       87  \n",
       "\n",
       "[128561 rows x 21 columns]"
      ]
     },
     "execution_count": 6,
     "metadata": {},
     "output_type": "execute_result"
    }
   ],
   "source": [
    "train_data"
   ]
  },
  {
   "cell_type": "code",
   "execution_count": 7,
   "id": "3434254e-e7ec-43a4-8db9-9f10f4ecc3d4",
   "metadata": {},
   "outputs": [
    {
     "data": {
      "text/html": [
       "<div>\n",
       "<style scoped>\n",
       "    .dataframe tbody tr th:only-of-type {\n",
       "        vertical-align: middle;\n",
       "    }\n",
       "\n",
       "    .dataframe tbody tr th {\n",
       "        vertical-align: top;\n",
       "    }\n",
       "\n",
       "    .dataframe thead th {\n",
       "        text-align: right;\n",
       "    }\n",
       "</style>\n",
       "<table border=\"1\" class=\"dataframe\">\n",
       "  <thead>\n",
       "    <tr style=\"text-align: right;\">\n",
       "      <th></th>\n",
       "      <th>asin</th>\n",
       "      <th>title</th>\n",
       "      <th>price</th>\n",
       "      <th>userId</th>\n",
       "      <th>profileName</th>\n",
       "      <th>reviewHelpfulness</th>\n",
       "      <th>overall</th>\n",
       "      <th>reviewTime</th>\n",
       "      <th>reviewSummary</th>\n",
       "      <th>reviewText</th>\n",
       "      <th>cleaned sentences</th>\n",
       "      <th>text_lematized</th>\n",
       "      <th>length</th>\n",
       "      <th>total_length</th>\n",
       "      <th>num_exclamation_marks</th>\n",
       "      <th>num_question_marks</th>\n",
       "      <th>num_punctuation</th>\n",
       "      <th>num_symbols</th>\n",
       "      <th>mapped_sentiment</th>\n",
       "      <th>lengths</th>\n",
       "    </tr>\n",
       "    <tr>\n",
       "      <th>sentiment</th>\n",
       "      <th></th>\n",
       "      <th></th>\n",
       "      <th></th>\n",
       "      <th></th>\n",
       "      <th></th>\n",
       "      <th></th>\n",
       "      <th></th>\n",
       "      <th></th>\n",
       "      <th></th>\n",
       "      <th></th>\n",
       "      <th></th>\n",
       "      <th></th>\n",
       "      <th></th>\n",
       "      <th></th>\n",
       "      <th></th>\n",
       "      <th></th>\n",
       "      <th></th>\n",
       "      <th></th>\n",
       "      <th></th>\n",
       "      <th></th>\n",
       "    </tr>\n",
       "  </thead>\n",
       "  <tbody>\n",
       "    <tr>\n",
       "      <th>mixed</th>\n",
       "      <td>10500</td>\n",
       "      <td>10500</td>\n",
       "      <td>10500</td>\n",
       "      <td>10500</td>\n",
       "      <td>10500</td>\n",
       "      <td>10500</td>\n",
       "      <td>10500</td>\n",
       "      <td>10500</td>\n",
       "      <td>10500</td>\n",
       "      <td>10500</td>\n",
       "      <td>10500</td>\n",
       "      <td>10500</td>\n",
       "      <td>10500</td>\n",
       "      <td>10500</td>\n",
       "      <td>10500</td>\n",
       "      <td>10500</td>\n",
       "      <td>10500</td>\n",
       "      <td>10500</td>\n",
       "      <td>10500</td>\n",
       "      <td>10500</td>\n",
       "    </tr>\n",
       "    <tr>\n",
       "      <th>negative</th>\n",
       "      <td>14384</td>\n",
       "      <td>14384</td>\n",
       "      <td>14384</td>\n",
       "      <td>14384</td>\n",
       "      <td>14384</td>\n",
       "      <td>14384</td>\n",
       "      <td>14384</td>\n",
       "      <td>14384</td>\n",
       "      <td>14384</td>\n",
       "      <td>14384</td>\n",
       "      <td>14384</td>\n",
       "      <td>14384</td>\n",
       "      <td>14384</td>\n",
       "      <td>14384</td>\n",
       "      <td>14384</td>\n",
       "      <td>14384</td>\n",
       "      <td>14384</td>\n",
       "      <td>14384</td>\n",
       "      <td>14384</td>\n",
       "      <td>14384</td>\n",
       "    </tr>\n",
       "    <tr>\n",
       "      <th>positive</th>\n",
       "      <td>103677</td>\n",
       "      <td>103677</td>\n",
       "      <td>103677</td>\n",
       "      <td>103677</td>\n",
       "      <td>103677</td>\n",
       "      <td>103677</td>\n",
       "      <td>103677</td>\n",
       "      <td>103677</td>\n",
       "      <td>103677</td>\n",
       "      <td>103677</td>\n",
       "      <td>103677</td>\n",
       "      <td>103677</td>\n",
       "      <td>103677</td>\n",
       "      <td>103677</td>\n",
       "      <td>103677</td>\n",
       "      <td>103677</td>\n",
       "      <td>103677</td>\n",
       "      <td>103677</td>\n",
       "      <td>103677</td>\n",
       "      <td>103677</td>\n",
       "    </tr>\n",
       "  </tbody>\n",
       "</table>\n",
       "</div>"
      ],
      "text/plain": [
       "             asin   title   price  userId  profileName  reviewHelpfulness  \\\n",
       "sentiment                                                                   \n",
       "mixed       10500   10500   10500   10500        10500              10500   \n",
       "negative    14384   14384   14384   14384        14384              14384   \n",
       "positive   103677  103677  103677  103677       103677             103677   \n",
       "\n",
       "           overall  reviewTime  reviewSummary  reviewText  cleaned sentences  \\\n",
       "sentiment                                                                      \n",
       "mixed        10500       10500          10500       10500              10500   \n",
       "negative     14384       14384          14384       14384              14384   \n",
       "positive    103677      103677         103677      103677             103677   \n",
       "\n",
       "           text_lematized  length  total_length  num_exclamation_marks  \\\n",
       "sentiment                                                                \n",
       "mixed               10500   10500         10500                  10500   \n",
       "negative            14384   14384         14384                  14384   \n",
       "positive           103677  103677        103677                 103677   \n",
       "\n",
       "           num_question_marks  num_punctuation  num_symbols  mapped_sentiment  \\\n",
       "sentiment                                                                       \n",
       "mixed                   10500            10500        10500             10500   \n",
       "negative                14384            14384        14384             14384   \n",
       "positive               103677           103677       103677            103677   \n",
       "\n",
       "           lengths  \n",
       "sentiment           \n",
       "mixed        10500  \n",
       "negative     14384  \n",
       "positive    103677  "
      ]
     },
     "execution_count": 7,
     "metadata": {},
     "output_type": "execute_result"
    }
   ],
   "source": [
    "train_data.groupby([\"sentiment\"]).count()"
   ]
  },
  {
   "cell_type": "markdown",
   "id": "c62e81d7-d777-4457-8b23-b68821adbe9a",
   "metadata": {},
   "source": [
    "### Create input data"
   ]
  },
  {
   "cell_type": "markdown",
   "id": "eb5a65a5-350d-494c-bee5-2a87c950f6f3",
   "metadata": {},
   "source": [
    "We want to identify topics using a clustering algorithm. First, we need to consider that each book is referenced by several reviews. Reviews for Book A will be different from reviews for Book B. Therefore, we should concatenate all reviews for each book into a single `text_lemmatized` column."
   ]
  },
  {
   "cell_type": "code",
   "execution_count": 8,
   "id": "f9b65564-9a75-4e36-9052-edcbefa8aee7",
   "metadata": {},
   "outputs": [],
   "source": [
    "def sample_texts(group):\n",
    "    return \" \".join(group)\n",
    "\n",
    "\n",
    "sampled_texts = (\n",
    "    train_data.groupby(\"title\")[\"text_lematized\"].apply(sample_texts)\n",
    ").to_dict()"
   ]
  },
  {
   "cell_type": "code",
   "execution_count": 9,
   "id": "b16c820d-94c4-4a58-b336-7eda0ea1e3c6",
   "metadata": {},
   "outputs": [],
   "source": [
    "unique_reviews = train_data[[\"userId\", \"asin\"]].apply(\n",
    "    lambda x: f'{x[\"userId\"]}_{x[\"asin\"]}', axis=1\n",
    ")\n",
    "train_data[\"composite_keys\"] = train_data[[\"userId\", \"asin\"]].apply(\n",
    "    lambda x: f'{x[\"userId\"]}_{x[\"asin\"]}', axis=1\n",
    ")\n",
    "train_data = train_data[~train_data[\"sentiment\"].isin([\"mixed\"])]\n",
    "sampled_data = train_data[train_data[\"composite_keys\"].isin(unique_reviews.unique())]\n",
    "sampled_data[\"text_lematized\"] = sampled_data[\"title\"].apply(sampled_texts.get)\n",
    "sampled_data = sampled_data.drop_duplicates(\"title\")\n",
    "vectorizer = TfidfVectorizer(stop_words=stop_words + new_stop_words)\n",
    "vectors = vectorizer.fit_transform(sampled_data[\"text_lematized\"])"
   ]
  },
  {
   "cell_type": "markdown",
   "id": "c6b4873c-f74d-403a-8299-a65082a1bf68",
   "metadata": {},
   "source": [
    "We end up with unique rows, where each row represents one book. The column \"test_lemmatized\" contains all reviews for that book."
   ]
  },
  {
   "cell_type": "code",
   "execution_count": 10,
   "id": "a0c070bd-ff1c-44b6-8b2e-6dadb553ed91",
   "metadata": {},
   "outputs": [
    {
     "data": {
      "text/plain": [
       "<14692x54000 sparse matrix of type '<class 'numpy.float64'>'\n",
       "\twith 1356542 stored elements in Compressed Sparse Row format>"
      ]
     },
     "execution_count": 10,
     "metadata": {},
     "output_type": "execute_result"
    }
   ],
   "source": [
    "vectors"
   ]
  },
  {
   "cell_type": "markdown",
   "id": "f2969295-d1f8-4d0a-9dbb-9f7a72e309cb",
   "metadata": {},
   "source": [
    "The number of features is very large, so let's reduce them using TruncatedSVD. Why should we use it? TruncatedSVD enhances computational efficiency by lowering the number of features, which speeds up processing and reduces memory usage. This optimization is crucial for large datasets where machine learning model training can be resource-intensive. It's especially beneficial for sparse matrices, like those in text data represented as TF-IDF matrices, as it can generate dense vectors without losing the data's structural integrity."
   ]
  },
  {
   "cell_type": "code",
   "execution_count": 11,
   "id": "11c1b811-e1de-4bd5-886c-ba2fe8c5fc83",
   "metadata": {},
   "outputs": [],
   "source": [
    "svd = TruncatedSVD(n_components=1000, random_state=42)\n",
    "X_after_svd = svd.fit_transform(vectors)"
   ]
  },
  {
   "cell_type": "markdown",
   "id": "2e8b0a9e-94f8-48f1-a642-3a4127ae3066",
   "metadata": {},
   "source": [
    "## KMeans - hyperparameter search"
   ]
  },
  {
   "cell_type": "markdown",
   "id": "ce01277a-9d56-4db6-8c01-b53850359351",
   "metadata": {},
   "source": [
    "The primary assumption is that we do not want to have too many topics. We aim to limit them to an absolute maximum of 250. Additionally, it is crucial that we do not end up with too many clusters; ideally, we should have around 100. Having more clusters would make the analysis redundant. Our goal is to facilitate quick business decisions without excessive granularity. Introducing too many clusters would make the entire analysis unreadable (there is no value into bringing 10000 clusters, if there are 14000 titles)\n",
    "\n",
    "When processing large datasets, especially text-heavy datasets like book reviews, clustering algorithms can be incredibly useful for identifying underlying patterns and groupings. Among the many clustering algorithms available, K-Means stands out for several reasons. \n",
    "\n",
    "K-Means is simple and efficient. It works well with large datasets and scales linearly with the size of the dataset, making it suitable for the 100000 book reviews. It quickly partitions the data into distinct clusters based on feature similarities, providing a clear structure of the data.\n",
    "\n",
    "We will perform hyperparameter search using 4 factors - n_clusters, algorithm, init method and max_iter."
   ]
  },
  {
   "cell_type": "code",
   "execution_count": 12,
   "id": "5042d0bc-fad2-42d4-a6db-76c5308d7a25",
   "metadata": {},
   "outputs": [
    {
     "data": {
      "application/vnd.jupyter.widget-view+json": {
       "model_id": "5f9e9517e985439f86ebbd7b575fd8af",
       "version_major": 2,
       "version_minor": 0
      },
      "text/plain": [
       "  0%|          | 0/60 [00:00<?, ?it/s]"
      ]
     },
     "metadata": {},
     "output_type": "display_data"
    },
    {
     "name": "stdout",
     "output_type": "stream",
     "text": [
      "(50, 'lloyd', 'k-means++', 100)\n",
      "(50, 'lloyd', 'k-means++', 200)\n",
      "(50, 'lloyd', 'k-means++', 300)\n",
      "(50, 'lloyd', 'random', 100)\n",
      "(50, 'lloyd', 'random', 200)\n",
      "(50, 'lloyd', 'random', 300)\n",
      "(50, 'elkan', 'k-means++', 100)\n",
      "(50, 'elkan', 'k-means++', 200)\n",
      "(50, 'elkan', 'k-means++', 300)\n",
      "(50, 'elkan', 'random', 100)\n",
      "(50, 'elkan', 'random', 200)\n",
      "(50, 'elkan', 'random', 300)\n",
      "(100, 'lloyd', 'k-means++', 100)\n",
      "(100, 'lloyd', 'k-means++', 200)\n",
      "(100, 'lloyd', 'k-means++', 300)\n",
      "(100, 'lloyd', 'random', 100)\n",
      "(100, 'lloyd', 'random', 200)\n",
      "(100, 'lloyd', 'random', 300)\n",
      "(100, 'elkan', 'k-means++', 100)\n",
      "(100, 'elkan', 'k-means++', 200)\n",
      "(100, 'elkan', 'k-means++', 300)\n",
      "(100, 'elkan', 'random', 100)\n",
      "(100, 'elkan', 'random', 200)\n",
      "(100, 'elkan', 'random', 300)\n",
      "(150, 'lloyd', 'k-means++', 100)\n",
      "(150, 'lloyd', 'k-means++', 200)\n",
      "(150, 'lloyd', 'k-means++', 300)\n",
      "(150, 'lloyd', 'random', 100)\n",
      "(150, 'lloyd', 'random', 200)\n",
      "(150, 'lloyd', 'random', 300)\n",
      "(150, 'elkan', 'k-means++', 100)\n",
      "(150, 'elkan', 'k-means++', 200)\n",
      "(150, 'elkan', 'k-means++', 300)\n",
      "(150, 'elkan', 'random', 100)\n",
      "(150, 'elkan', 'random', 200)\n",
      "(150, 'elkan', 'random', 300)\n",
      "(200, 'lloyd', 'k-means++', 100)\n",
      "(200, 'lloyd', 'k-means++', 200)\n",
      "(200, 'lloyd', 'k-means++', 300)\n",
      "(200, 'lloyd', 'random', 100)\n",
      "(200, 'lloyd', 'random', 200)\n",
      "(200, 'lloyd', 'random', 300)\n",
      "(200, 'elkan', 'k-means++', 100)\n",
      "(200, 'elkan', 'k-means++', 200)\n",
      "(200, 'elkan', 'k-means++', 300)\n",
      "(200, 'elkan', 'random', 100)\n",
      "(200, 'elkan', 'random', 200)\n",
      "(200, 'elkan', 'random', 300)\n",
      "(250, 'lloyd', 'k-means++', 100)\n",
      "(250, 'lloyd', 'k-means++', 200)\n",
      "(250, 'lloyd', 'k-means++', 300)\n",
      "(250, 'lloyd', 'random', 100)\n",
      "(250, 'lloyd', 'random', 200)\n",
      "(250, 'lloyd', 'random', 300)\n",
      "(250, 'elkan', 'k-means++', 100)\n",
      "(250, 'elkan', 'k-means++', 200)\n",
      "(250, 'elkan', 'k-means++', 300)\n",
      "(250, 'elkan', 'random', 100)\n",
      "(250, 'elkan', 'random', 200)\n",
      "(250, 'elkan', 'random', 300)\n",
      "Best configuration:\n",
      "{'n_clusters': 250, 'algorithm': 'lloyd', 'init': 'k-means++', 'max_iter': 100, 'ssd': 3527.0257237283304, 'time': 3.1638338565826416}\n"
     ]
    }
   ],
   "source": [
    "range_n_clusters = range(50, 300, 50)\n",
    "algorithm = [\"lloyd\", \"elkan\"]\n",
    "init = [\"k-means++\", \"random\"]\n",
    "max_iter = [100, 200, 300]\n",
    "\n",
    "ssd = []\n",
    "labels = {}\n",
    "grid_search_results = []\n",
    "\n",
    "hyperparameter_combinations = list(\n",
    "    itertools.product(range_n_clusters, algorithm, init, max_iter)\n",
    ")\n",
    "\n",
    "for params in tqdm(hyperparameter_combinations):\n",
    "    print(params)\n",
    "    n_clusters, alg, init_method, iterations = params\n",
    "    start_time = time.time()\n",
    "\n",
    "    kmeans = KMeans(\n",
    "        n_clusters=n_clusters,\n",
    "        algorithm=alg,\n",
    "        init=init_method,\n",
    "        max_iter=iterations,\n",
    "        random_state=0,\n",
    "    )\n",
    "    kmeans.fit(X_after_svd)\n",
    "    ssd_value = kmeans.inertia_\n",
    "    ssd.append(ssd_value)\n",
    "    end_time = time.time()\n",
    "\n",
    "    result = {\n",
    "        \"n_clusters\": n_clusters,\n",
    "        \"algorithm\": alg,\n",
    "        \"init\": init_method,\n",
    "        \"max_iter\": iterations,\n",
    "        \"ssd\": ssd_value,\n",
    "        \"time\": end_time - start_time,\n",
    "    }\n",
    "    grid_search_results.append(result)\n",
    "\n",
    "    labels[params] = kmeans.labels_\n",
    "\n",
    "best_config = min(grid_search_results, key=lambda x: x[\"ssd\"])\n",
    "print(\"Best configuration:\")\n",
    "print(best_config)"
   ]
  },
  {
   "cell_type": "code",
   "execution_count": 13,
   "id": "535fca13-5de8-4f40-850a-4e2692c211a9",
   "metadata": {},
   "outputs": [
    {
     "data": {
      "text/html": [
       "<div>\n",
       "<style scoped>\n",
       "    .dataframe tbody tr th:only-of-type {\n",
       "        vertical-align: middle;\n",
       "    }\n",
       "\n",
       "    .dataframe tbody tr th {\n",
       "        vertical-align: top;\n",
       "    }\n",
       "\n",
       "    .dataframe thead th {\n",
       "        text-align: right;\n",
       "    }\n",
       "</style>\n",
       "<table border=\"1\" class=\"dataframe\">\n",
       "  <thead>\n",
       "    <tr style=\"text-align: right;\">\n",
       "      <th></th>\n",
       "      <th>n_clusters</th>\n",
       "      <th>algorithm</th>\n",
       "      <th>init</th>\n",
       "      <th>max_iter</th>\n",
       "      <th>ssd</th>\n",
       "      <th>time</th>\n",
       "    </tr>\n",
       "  </thead>\n",
       "  <tbody>\n",
       "    <tr>\n",
       "      <th>56</th>\n",
       "      <td>250</td>\n",
       "      <td>elkan</td>\n",
       "      <td>k-means++</td>\n",
       "      <td>300</td>\n",
       "      <td>3527.025724</td>\n",
       "      <td>4.259114</td>\n",
       "    </tr>\n",
       "    <tr>\n",
       "      <th>55</th>\n",
       "      <td>250</td>\n",
       "      <td>elkan</td>\n",
       "      <td>k-means++</td>\n",
       "      <td>200</td>\n",
       "      <td>3527.025724</td>\n",
       "      <td>4.489664</td>\n",
       "    </tr>\n",
       "    <tr>\n",
       "      <th>54</th>\n",
       "      <td>250</td>\n",
       "      <td>elkan</td>\n",
       "      <td>k-means++</td>\n",
       "      <td>100</td>\n",
       "      <td>3527.025724</td>\n",
       "      <td>4.040841</td>\n",
       "    </tr>\n",
       "    <tr>\n",
       "      <th>50</th>\n",
       "      <td>250</td>\n",
       "      <td>lloyd</td>\n",
       "      <td>k-means++</td>\n",
       "      <td>300</td>\n",
       "      <td>3527.025724</td>\n",
       "      <td>3.024500</td>\n",
       "    </tr>\n",
       "    <tr>\n",
       "      <th>49</th>\n",
       "      <td>250</td>\n",
       "      <td>lloyd</td>\n",
       "      <td>k-means++</td>\n",
       "      <td>200</td>\n",
       "      <td>3527.025724</td>\n",
       "      <td>3.658699</td>\n",
       "    </tr>\n",
       "    <tr>\n",
       "      <th>48</th>\n",
       "      <td>250</td>\n",
       "      <td>lloyd</td>\n",
       "      <td>k-means++</td>\n",
       "      <td>100</td>\n",
       "      <td>3527.025724</td>\n",
       "      <td>3.163834</td>\n",
       "    </tr>\n",
       "    <tr>\n",
       "      <th>59</th>\n",
       "      <td>250</td>\n",
       "      <td>elkan</td>\n",
       "      <td>random</td>\n",
       "      <td>300</td>\n",
       "      <td>3626.353101</td>\n",
       "      <td>19.075625</td>\n",
       "    </tr>\n",
       "    <tr>\n",
       "      <th>57</th>\n",
       "      <td>250</td>\n",
       "      <td>elkan</td>\n",
       "      <td>random</td>\n",
       "      <td>100</td>\n",
       "      <td>3626.353101</td>\n",
       "      <td>19.226897</td>\n",
       "    </tr>\n",
       "    <tr>\n",
       "      <th>53</th>\n",
       "      <td>250</td>\n",
       "      <td>lloyd</td>\n",
       "      <td>random</td>\n",
       "      <td>300</td>\n",
       "      <td>3626.353101</td>\n",
       "      <td>12.652875</td>\n",
       "    </tr>\n",
       "    <tr>\n",
       "      <th>52</th>\n",
       "      <td>250</td>\n",
       "      <td>lloyd</td>\n",
       "      <td>random</td>\n",
       "      <td>200</td>\n",
       "      <td>3626.353101</td>\n",
       "      <td>12.273168</td>\n",
       "    </tr>\n",
       "    <tr>\n",
       "      <th>51</th>\n",
       "      <td>250</td>\n",
       "      <td>lloyd</td>\n",
       "      <td>random</td>\n",
       "      <td>100</td>\n",
       "      <td>3626.353101</td>\n",
       "      <td>12.327236</td>\n",
       "    </tr>\n",
       "    <tr>\n",
       "      <th>58</th>\n",
       "      <td>250</td>\n",
       "      <td>elkan</td>\n",
       "      <td>random</td>\n",
       "      <td>200</td>\n",
       "      <td>3626.353101</td>\n",
       "      <td>18.589137</td>\n",
       "    </tr>\n",
       "    <tr>\n",
       "      <th>36</th>\n",
       "      <td>200</td>\n",
       "      <td>lloyd</td>\n",
       "      <td>k-means++</td>\n",
       "      <td>100</td>\n",
       "      <td>3696.932813</td>\n",
       "      <td>2.814650</td>\n",
       "    </tr>\n",
       "    <tr>\n",
       "      <th>37</th>\n",
       "      <td>200</td>\n",
       "      <td>lloyd</td>\n",
       "      <td>k-means++</td>\n",
       "      <td>200</td>\n",
       "      <td>3696.932813</td>\n",
       "      <td>2.781590</td>\n",
       "    </tr>\n",
       "    <tr>\n",
       "      <th>43</th>\n",
       "      <td>200</td>\n",
       "      <td>elkan</td>\n",
       "      <td>k-means++</td>\n",
       "      <td>200</td>\n",
       "      <td>3696.932813</td>\n",
       "      <td>3.000020</td>\n",
       "    </tr>\n",
       "    <tr>\n",
       "      <th>42</th>\n",
       "      <td>200</td>\n",
       "      <td>elkan</td>\n",
       "      <td>k-means++</td>\n",
       "      <td>100</td>\n",
       "      <td>3696.932813</td>\n",
       "      <td>2.849252</td>\n",
       "    </tr>\n",
       "    <tr>\n",
       "      <th>44</th>\n",
       "      <td>200</td>\n",
       "      <td>elkan</td>\n",
       "      <td>k-means++</td>\n",
       "      <td>300</td>\n",
       "      <td>3696.932813</td>\n",
       "      <td>2.728322</td>\n",
       "    </tr>\n",
       "    <tr>\n",
       "      <th>38</th>\n",
       "      <td>200</td>\n",
       "      <td>lloyd</td>\n",
       "      <td>k-means++</td>\n",
       "      <td>300</td>\n",
       "      <td>3696.932813</td>\n",
       "      <td>3.517426</td>\n",
       "    </tr>\n",
       "    <tr>\n",
       "      <th>41</th>\n",
       "      <td>200</td>\n",
       "      <td>lloyd</td>\n",
       "      <td>random</td>\n",
       "      <td>300</td>\n",
       "      <td>3793.304768</td>\n",
       "      <td>8.893478</td>\n",
       "    </tr>\n",
       "    <tr>\n",
       "      <th>40</th>\n",
       "      <td>200</td>\n",
       "      <td>lloyd</td>\n",
       "      <td>random</td>\n",
       "      <td>200</td>\n",
       "      <td>3793.304768</td>\n",
       "      <td>9.649261</td>\n",
       "    </tr>\n",
       "    <tr>\n",
       "      <th>39</th>\n",
       "      <td>200</td>\n",
       "      <td>lloyd</td>\n",
       "      <td>random</td>\n",
       "      <td>100</td>\n",
       "      <td>3793.304768</td>\n",
       "      <td>10.102101</td>\n",
       "    </tr>\n",
       "    <tr>\n",
       "      <th>45</th>\n",
       "      <td>200</td>\n",
       "      <td>elkan</td>\n",
       "      <td>random</td>\n",
       "      <td>100</td>\n",
       "      <td>3793.304768</td>\n",
       "      <td>10.919530</td>\n",
       "    </tr>\n",
       "    <tr>\n",
       "      <th>46</th>\n",
       "      <td>200</td>\n",
       "      <td>elkan</td>\n",
       "      <td>random</td>\n",
       "      <td>200</td>\n",
       "      <td>3793.304768</td>\n",
       "      <td>10.827595</td>\n",
       "    </tr>\n",
       "    <tr>\n",
       "      <th>47</th>\n",
       "      <td>200</td>\n",
       "      <td>elkan</td>\n",
       "      <td>random</td>\n",
       "      <td>300</td>\n",
       "      <td>3793.304768</td>\n",
       "      <td>10.953241</td>\n",
       "    </tr>\n",
       "    <tr>\n",
       "      <th>31</th>\n",
       "      <td>150</td>\n",
       "      <td>elkan</td>\n",
       "      <td>k-means++</td>\n",
       "      <td>200</td>\n",
       "      <td>3861.426307</td>\n",
       "      <td>2.579184</td>\n",
       "    </tr>\n",
       "    <tr>\n",
       "      <th>30</th>\n",
       "      <td>150</td>\n",
       "      <td>elkan</td>\n",
       "      <td>k-means++</td>\n",
       "      <td>100</td>\n",
       "      <td>3861.426307</td>\n",
       "      <td>3.001247</td>\n",
       "    </tr>\n",
       "    <tr>\n",
       "      <th>24</th>\n",
       "      <td>150</td>\n",
       "      <td>lloyd</td>\n",
       "      <td>k-means++</td>\n",
       "      <td>100</td>\n",
       "      <td>3861.426307</td>\n",
       "      <td>3.728725</td>\n",
       "    </tr>\n",
       "    <tr>\n",
       "      <th>25</th>\n",
       "      <td>150</td>\n",
       "      <td>lloyd</td>\n",
       "      <td>k-means++</td>\n",
       "      <td>200</td>\n",
       "      <td>3861.426307</td>\n",
       "      <td>2.917933</td>\n",
       "    </tr>\n",
       "    <tr>\n",
       "      <th>26</th>\n",
       "      <td>150</td>\n",
       "      <td>lloyd</td>\n",
       "      <td>k-means++</td>\n",
       "      <td>300</td>\n",
       "      <td>3861.426307</td>\n",
       "      <td>4.984589</td>\n",
       "    </tr>\n",
       "    <tr>\n",
       "      <th>32</th>\n",
       "      <td>150</td>\n",
       "      <td>elkan</td>\n",
       "      <td>k-means++</td>\n",
       "      <td>300</td>\n",
       "      <td>3861.426307</td>\n",
       "      <td>5.558691</td>\n",
       "    </tr>\n",
       "    <tr>\n",
       "      <th>34</th>\n",
       "      <td>150</td>\n",
       "      <td>elkan</td>\n",
       "      <td>random</td>\n",
       "      <td>200</td>\n",
       "      <td>3956.822735</td>\n",
       "      <td>10.208169</td>\n",
       "    </tr>\n",
       "    <tr>\n",
       "      <th>33</th>\n",
       "      <td>150</td>\n",
       "      <td>elkan</td>\n",
       "      <td>random</td>\n",
       "      <td>100</td>\n",
       "      <td>3956.822735</td>\n",
       "      <td>10.342330</td>\n",
       "    </tr>\n",
       "    <tr>\n",
       "      <th>35</th>\n",
       "      <td>150</td>\n",
       "      <td>elkan</td>\n",
       "      <td>random</td>\n",
       "      <td>300</td>\n",
       "      <td>3956.822735</td>\n",
       "      <td>10.350638</td>\n",
       "    </tr>\n",
       "    <tr>\n",
       "      <th>29</th>\n",
       "      <td>150</td>\n",
       "      <td>lloyd</td>\n",
       "      <td>random</td>\n",
       "      <td>300</td>\n",
       "      <td>3956.822735</td>\n",
       "      <td>7.273570</td>\n",
       "    </tr>\n",
       "    <tr>\n",
       "      <th>27</th>\n",
       "      <td>150</td>\n",
       "      <td>lloyd</td>\n",
       "      <td>random</td>\n",
       "      <td>100</td>\n",
       "      <td>3956.822735</td>\n",
       "      <td>6.956231</td>\n",
       "    </tr>\n",
       "    <tr>\n",
       "      <th>28</th>\n",
       "      <td>150</td>\n",
       "      <td>lloyd</td>\n",
       "      <td>random</td>\n",
       "      <td>200</td>\n",
       "      <td>3956.822735</td>\n",
       "      <td>7.084716</td>\n",
       "    </tr>\n",
       "    <tr>\n",
       "      <th>13</th>\n",
       "      <td>100</td>\n",
       "      <td>lloyd</td>\n",
       "      <td>k-means++</td>\n",
       "      <td>200</td>\n",
       "      <td>4108.557857</td>\n",
       "      <td>1.377754</td>\n",
       "    </tr>\n",
       "    <tr>\n",
       "      <th>20</th>\n",
       "      <td>100</td>\n",
       "      <td>elkan</td>\n",
       "      <td>k-means++</td>\n",
       "      <td>300</td>\n",
       "      <td>4108.557857</td>\n",
       "      <td>1.519841</td>\n",
       "    </tr>\n",
       "    <tr>\n",
       "      <th>12</th>\n",
       "      <td>100</td>\n",
       "      <td>lloyd</td>\n",
       "      <td>k-means++</td>\n",
       "      <td>100</td>\n",
       "      <td>4108.557857</td>\n",
       "      <td>1.231360</td>\n",
       "    </tr>\n",
       "    <tr>\n",
       "      <th>19</th>\n",
       "      <td>100</td>\n",
       "      <td>elkan</td>\n",
       "      <td>k-means++</td>\n",
       "      <td>200</td>\n",
       "      <td>4108.557857</td>\n",
       "      <td>2.835206</td>\n",
       "    </tr>\n",
       "    <tr>\n",
       "      <th>18</th>\n",
       "      <td>100</td>\n",
       "      <td>elkan</td>\n",
       "      <td>k-means++</td>\n",
       "      <td>100</td>\n",
       "      <td>4108.557857</td>\n",
       "      <td>1.789594</td>\n",
       "    </tr>\n",
       "    <tr>\n",
       "      <th>14</th>\n",
       "      <td>100</td>\n",
       "      <td>lloyd</td>\n",
       "      <td>k-means++</td>\n",
       "      <td>300</td>\n",
       "      <td>4108.557857</td>\n",
       "      <td>1.279355</td>\n",
       "    </tr>\n",
       "    <tr>\n",
       "      <th>17</th>\n",
       "      <td>100</td>\n",
       "      <td>lloyd</td>\n",
       "      <td>random</td>\n",
       "      <td>300</td>\n",
       "      <td>4131.705803</td>\n",
       "      <td>5.963946</td>\n",
       "    </tr>\n",
       "    <tr>\n",
       "      <th>16</th>\n",
       "      <td>100</td>\n",
       "      <td>lloyd</td>\n",
       "      <td>random</td>\n",
       "      <td>200</td>\n",
       "      <td>4131.705803</td>\n",
       "      <td>5.988101</td>\n",
       "    </tr>\n",
       "    <tr>\n",
       "      <th>15</th>\n",
       "      <td>100</td>\n",
       "      <td>lloyd</td>\n",
       "      <td>random</td>\n",
       "      <td>100</td>\n",
       "      <td>4131.705803</td>\n",
       "      <td>6.339438</td>\n",
       "    </tr>\n",
       "    <tr>\n",
       "      <th>22</th>\n",
       "      <td>100</td>\n",
       "      <td>elkan</td>\n",
       "      <td>random</td>\n",
       "      <td>200</td>\n",
       "      <td>4131.705803</td>\n",
       "      <td>8.316973</td>\n",
       "    </tr>\n",
       "    <tr>\n",
       "      <th>23</th>\n",
       "      <td>100</td>\n",
       "      <td>elkan</td>\n",
       "      <td>random</td>\n",
       "      <td>300</td>\n",
       "      <td>4131.705803</td>\n",
       "      <td>8.575690</td>\n",
       "    </tr>\n",
       "    <tr>\n",
       "      <th>21</th>\n",
       "      <td>100</td>\n",
       "      <td>elkan</td>\n",
       "      <td>random</td>\n",
       "      <td>100</td>\n",
       "      <td>4131.705803</td>\n",
       "      <td>8.484673</td>\n",
       "    </tr>\n",
       "    <tr>\n",
       "      <th>1</th>\n",
       "      <td>50</td>\n",
       "      <td>lloyd</td>\n",
       "      <td>k-means++</td>\n",
       "      <td>200</td>\n",
       "      <td>4341.444313</td>\n",
       "      <td>1.146917</td>\n",
       "    </tr>\n",
       "    <tr>\n",
       "      <th>2</th>\n",
       "      <td>50</td>\n",
       "      <td>lloyd</td>\n",
       "      <td>k-means++</td>\n",
       "      <td>300</td>\n",
       "      <td>4341.444313</td>\n",
       "      <td>1.084160</td>\n",
       "    </tr>\n",
       "    <tr>\n",
       "      <th>6</th>\n",
       "      <td>50</td>\n",
       "      <td>elkan</td>\n",
       "      <td>k-means++</td>\n",
       "      <td>100</td>\n",
       "      <td>4341.444313</td>\n",
       "      <td>1.053736</td>\n",
       "    </tr>\n",
       "    <tr>\n",
       "      <th>0</th>\n",
       "      <td>50</td>\n",
       "      <td>lloyd</td>\n",
       "      <td>k-means++</td>\n",
       "      <td>100</td>\n",
       "      <td>4341.444313</td>\n",
       "      <td>1.392500</td>\n",
       "    </tr>\n",
       "    <tr>\n",
       "      <th>8</th>\n",
       "      <td>50</td>\n",
       "      <td>elkan</td>\n",
       "      <td>k-means++</td>\n",
       "      <td>300</td>\n",
       "      <td>4341.444313</td>\n",
       "      <td>1.025969</td>\n",
       "    </tr>\n",
       "    <tr>\n",
       "      <th>7</th>\n",
       "      <td>50</td>\n",
       "      <td>elkan</td>\n",
       "      <td>k-means++</td>\n",
       "      <td>200</td>\n",
       "      <td>4341.444313</td>\n",
       "      <td>1.309437</td>\n",
       "    </tr>\n",
       "    <tr>\n",
       "      <th>5</th>\n",
       "      <td>50</td>\n",
       "      <td>lloyd</td>\n",
       "      <td>random</td>\n",
       "      <td>300</td>\n",
       "      <td>4361.749239</td>\n",
       "      <td>3.519260</td>\n",
       "    </tr>\n",
       "    <tr>\n",
       "      <th>4</th>\n",
       "      <td>50</td>\n",
       "      <td>lloyd</td>\n",
       "      <td>random</td>\n",
       "      <td>200</td>\n",
       "      <td>4361.749239</td>\n",
       "      <td>3.620470</td>\n",
       "    </tr>\n",
       "    <tr>\n",
       "      <th>3</th>\n",
       "      <td>50</td>\n",
       "      <td>lloyd</td>\n",
       "      <td>random</td>\n",
       "      <td>100</td>\n",
       "      <td>4361.749239</td>\n",
       "      <td>3.512129</td>\n",
       "    </tr>\n",
       "    <tr>\n",
       "      <th>10</th>\n",
       "      <td>50</td>\n",
       "      <td>elkan</td>\n",
       "      <td>random</td>\n",
       "      <td>200</td>\n",
       "      <td>4361.749239</td>\n",
       "      <td>3.596182</td>\n",
       "    </tr>\n",
       "    <tr>\n",
       "      <th>11</th>\n",
       "      <td>50</td>\n",
       "      <td>elkan</td>\n",
       "      <td>random</td>\n",
       "      <td>300</td>\n",
       "      <td>4361.749239</td>\n",
       "      <td>3.539662</td>\n",
       "    </tr>\n",
       "    <tr>\n",
       "      <th>9</th>\n",
       "      <td>50</td>\n",
       "      <td>elkan</td>\n",
       "      <td>random</td>\n",
       "      <td>100</td>\n",
       "      <td>4361.749239</td>\n",
       "      <td>3.515357</td>\n",
       "    </tr>\n",
       "  </tbody>\n",
       "</table>\n",
       "</div>"
      ],
      "text/plain": [
       "    n_clusters algorithm       init  max_iter          ssd       time\n",
       "56         250     elkan  k-means++       300  3527.025724   4.259114\n",
       "55         250     elkan  k-means++       200  3527.025724   4.489664\n",
       "54         250     elkan  k-means++       100  3527.025724   4.040841\n",
       "50         250     lloyd  k-means++       300  3527.025724   3.024500\n",
       "49         250     lloyd  k-means++       200  3527.025724   3.658699\n",
       "48         250     lloyd  k-means++       100  3527.025724   3.163834\n",
       "59         250     elkan     random       300  3626.353101  19.075625\n",
       "57         250     elkan     random       100  3626.353101  19.226897\n",
       "53         250     lloyd     random       300  3626.353101  12.652875\n",
       "52         250     lloyd     random       200  3626.353101  12.273168\n",
       "51         250     lloyd     random       100  3626.353101  12.327236\n",
       "58         250     elkan     random       200  3626.353101  18.589137\n",
       "36         200     lloyd  k-means++       100  3696.932813   2.814650\n",
       "37         200     lloyd  k-means++       200  3696.932813   2.781590\n",
       "43         200     elkan  k-means++       200  3696.932813   3.000020\n",
       "42         200     elkan  k-means++       100  3696.932813   2.849252\n",
       "44         200     elkan  k-means++       300  3696.932813   2.728322\n",
       "38         200     lloyd  k-means++       300  3696.932813   3.517426\n",
       "41         200     lloyd     random       300  3793.304768   8.893478\n",
       "40         200     lloyd     random       200  3793.304768   9.649261\n",
       "39         200     lloyd     random       100  3793.304768  10.102101\n",
       "45         200     elkan     random       100  3793.304768  10.919530\n",
       "46         200     elkan     random       200  3793.304768  10.827595\n",
       "47         200     elkan     random       300  3793.304768  10.953241\n",
       "31         150     elkan  k-means++       200  3861.426307   2.579184\n",
       "30         150     elkan  k-means++       100  3861.426307   3.001247\n",
       "24         150     lloyd  k-means++       100  3861.426307   3.728725\n",
       "25         150     lloyd  k-means++       200  3861.426307   2.917933\n",
       "26         150     lloyd  k-means++       300  3861.426307   4.984589\n",
       "32         150     elkan  k-means++       300  3861.426307   5.558691\n",
       "34         150     elkan     random       200  3956.822735  10.208169\n",
       "33         150     elkan     random       100  3956.822735  10.342330\n",
       "35         150     elkan     random       300  3956.822735  10.350638\n",
       "29         150     lloyd     random       300  3956.822735   7.273570\n",
       "27         150     lloyd     random       100  3956.822735   6.956231\n",
       "28         150     lloyd     random       200  3956.822735   7.084716\n",
       "13         100     lloyd  k-means++       200  4108.557857   1.377754\n",
       "20         100     elkan  k-means++       300  4108.557857   1.519841\n",
       "12         100     lloyd  k-means++       100  4108.557857   1.231360\n",
       "19         100     elkan  k-means++       200  4108.557857   2.835206\n",
       "18         100     elkan  k-means++       100  4108.557857   1.789594\n",
       "14         100     lloyd  k-means++       300  4108.557857   1.279355\n",
       "17         100     lloyd     random       300  4131.705803   5.963946\n",
       "16         100     lloyd     random       200  4131.705803   5.988101\n",
       "15         100     lloyd     random       100  4131.705803   6.339438\n",
       "22         100     elkan     random       200  4131.705803   8.316973\n",
       "23         100     elkan     random       300  4131.705803   8.575690\n",
       "21         100     elkan     random       100  4131.705803   8.484673\n",
       "1           50     lloyd  k-means++       200  4341.444313   1.146917\n",
       "2           50     lloyd  k-means++       300  4341.444313   1.084160\n",
       "6           50     elkan  k-means++       100  4341.444313   1.053736\n",
       "0           50     lloyd  k-means++       100  4341.444313   1.392500\n",
       "8           50     elkan  k-means++       300  4341.444313   1.025969\n",
       "7           50     elkan  k-means++       200  4341.444313   1.309437\n",
       "5           50     lloyd     random       300  4361.749239   3.519260\n",
       "4           50     lloyd     random       200  4361.749239   3.620470\n",
       "3           50     lloyd     random       100  4361.749239   3.512129\n",
       "10          50     elkan     random       200  4361.749239   3.596182\n",
       "11          50     elkan     random       300  4361.749239   3.539662\n",
       "9           50     elkan     random       100  4361.749239   3.515357"
      ]
     },
     "execution_count": 13,
     "metadata": {},
     "output_type": "execute_result"
    }
   ],
   "source": [
    "df = pd.DataFrame(grid_search_results)\n",
    "df.sort_values(\"ssd\", ascending=True)"
   ]
  },
  {
   "cell_type": "code",
   "execution_count": 14,
   "id": "57be8c03-5700-4e14-ab7a-b8758f60f615",
   "metadata": {},
   "outputs": [
    {
     "data": {
      "image/png": "[encoded data removed]",
      "text/plain": [
       "<Figure size 1200x1800 with 3 Axes>"
      ]
     },
     "metadata": {},
     "output_type": "display_data"
    }
   ],
   "source": [
    "fig, axes = plt.subplots(3, 1, figsize=(12, 18))\n",
    "df = pd.DataFrame(grid_search_results)\n",
    "sns.lineplot(\n",
    "    data=df,\n",
    "    x=\"n_clusters\",\n",
    "    y=\"ssd\",\n",
    "    hue=\"algorithm\",\n",
    "    style=\"init\",\n",
    "    markers=True,\n",
    "    ax=axes[0],\n",
    ")\n",
    "axes[0].axhline(3527.0257237283304, ls=\"--\", color=\"red\", label=\"Best Model SSD\")\n",
    "axes[0].set_title(\"Effect of n_clusters on Inertia\")\n",
    "axes[0].legend()\n",
    "\n",
    "filtered_df = df[df[\"n_clusters\"] == 250]\n",
    "sns.lineplot(\n",
    "    data=filtered_df,\n",
    "    x=\"init\",\n",
    "    y=\"ssd\",\n",
    "    hue=\"algorithm\",\n",
    "    style=\"max_iter\",\n",
    "    markers=True,\n",
    "    ax=axes[1],\n",
    ")\n",
    "axes[1].axhline(3527.0257237283304, ls=\"--\", color=\"red\", label=\"Best Model SSD\")\n",
    "axes[1].set_title(\"Effect of init on Inertia\")\n",
    "axes[1].legend()\n",
    "\n",
    "sns.lineplot(\n",
    "    data=filtered_df,\n",
    "    x=\"max_iter\",\n",
    "    y=\"ssd\",\n",
    "    hue=\"algorithm\",\n",
    "    style=\"init\",\n",
    "    markers=True,\n",
    "    ax=axes[2],\n",
    ")\n",
    "axes[2].axhline(3527.0257237283304, ls=\"--\", color=\"red\", label=\"Best Model SSD\")\n",
    "axes[2].set_title(\"Effect of max_iter on Inertia\")\n",
    "axes[2].legend()\n",
    "\n",
    "plt.tight_layout()\n",
    "plt.show()"
   ]
  },
  {
   "cell_type": "markdown",
   "id": "60aa63e9-6ed6-4c16-8f10-b44c3b00865d",
   "metadata": {},
   "source": [
    "As observed, changing the `n_clusters` parameter is the only factor that affects the inertia level."
   ]
  },
  {
   "cell_type": "code",
   "execution_count": 15,
   "id": "e12b33ba-6a79-4b2a-aab3-cd25be139994",
   "metadata": {},
   "outputs": [
    {
     "data": {
      "text/plain": [
       "{'n_clusters': 250,\n",
       " 'algorithm': 'lloyd',\n",
       " 'init': 'k-means++',\n",
       " 'max_iter': 100,\n",
       " 'ssd': 3527.0257237283304,\n",
       " 'time': 3.1638338565826416}"
      ]
     },
     "execution_count": 15,
     "metadata": {},
     "output_type": "execute_result"
    }
   ],
   "source": [
    "best_config"
   ]
  },
  {
   "cell_type": "code",
   "execution_count": 16,
   "id": "c0be5bdd-6118-4c23-a202-5f85ef285167",
   "metadata": {},
   "outputs": [
    {
     "data": {
      "text/html": [
       "<style>#sk-container-id-1 {\n",
       "  /* Definition of color scheme common for light and dark mode */\n",
       "  --sklearn-color-text: black;\n",
       "  --sklearn-color-line: gray;\n",
       "  /* Definition of color scheme for unfitted estimators */\n",
       "  --sklearn-color-unfitted-level-0: #fff5e6;\n",
       "  --sklearn-color-unfitted-level-1: #f6e4d2;\n",
       "  --sklearn-color-unfitted-level-2: #ffe0b3;\n",
       "  --sklearn-color-unfitted-level-3: chocolate;\n",
       "  /* Definition of color scheme for fitted estimators */\n",
       "  --sklearn-color-fitted-level-0: #f0f8ff;\n",
       "  --sklearn-color-fitted-level-1: #d4ebff;\n",
       "  --sklearn-color-fitted-level-2: #b3dbfd;\n",
       "  --sklearn-color-fitted-level-3: cornflowerblue;\n",
       "\n",
       "  /* Specific color for light theme */\n",
       "  --sklearn-color-text-on-default-background: var(--sg-text-color, var(--theme-code-foreground, var(--jp-content-font-color1, black)));\n",
       "  --sklearn-color-background: var(--sg-background-color, var(--theme-background, var(--jp-layout-color0, white)));\n",
       "  --sklearn-color-border-box: var(--sg-text-color, var(--theme-code-foreground, var(--jp-content-font-color1, black)));\n",
       "  --sklearn-color-icon: #696969;\n",
       "\n",
       "  @media (prefers-color-scheme: dark) {\n",
       "    /* Redefinition of color scheme for dark theme */\n",
       "    --sklearn-color-text-on-default-background: var(--sg-text-color, var(--theme-code-foreground, var(--jp-content-font-color1, white)));\n",
       "    --sklearn-color-background: var(--sg-background-color, var(--theme-background, var(--jp-layout-color0, #111)));\n",
       "    --sklearn-color-border-box: var(--sg-text-color, var(--theme-code-foreground, var(--jp-content-font-color1, white)));\n",
       "    --sklearn-color-icon: #878787;\n",
       "  }\n",
       "}\n",
       "\n",
       "#sk-container-id-1 {\n",
       "  color: var(--sklearn-color-text);\n",
       "}\n",
       "\n",
       "#sk-container-id-1 pre {\n",
       "  padding: 0;\n",
       "}\n",
       "\n",
       "#sk-container-id-1 input.sk-hidden--visually {\n",
       "  border: 0;\n",
       "  clip: rect(1px 1px 1px 1px);\n",
       "  clip: rect(1px, 1px, 1px, 1px);\n",
       "  height: 1px;\n",
       "  margin: -1px;\n",
       "  overflow: hidden;\n",
       "  padding: 0;\n",
       "  position: absolute;\n",
       "  width: 1px;\n",
       "}\n",
       "\n",
       "#sk-container-id-1 div.sk-dashed-wrapped {\n",
       "  border: 1px dashed var(--sklearn-color-line);\n",
       "  margin: 0 0.4em 0.5em 0.4em;\n",
       "  box-sizing: border-box;\n",
       "  padding-bottom: 0.4em;\n",
       "  background-color: var(--sklearn-color-background);\n",
       "}\n",
       "\n",
       "#sk-container-id-1 div.sk-container {\n",
       "  /* jupyter's `normalize.less` sets `[hidden] { display: none; }`\n",
       "     but bootstrap.min.css set `[hidden] { display: none !important; }`\n",
       "     so we also need the `!important` here to be able to override the\n",
       "     default hidden behavior on the sphinx rendered scikit-learn.org.\n",
       "     See: https://github.com/scikit-learn/scikit-learn/issues/21755 */\n",
       "  display: inline-block !important;\n",
       "  position: relative;\n",
       "}\n",
       "\n",
       "#sk-container-id-1 div.sk-text-repr-fallback {\n",
       "  display: none;\n",
       "}\n",
       "\n",
       "div.sk-parallel-item,\n",
       "div.sk-serial,\n",
       "div.sk-item {\n",
       "  /* draw centered vertical line to link estimators */\n",
       "  background-image: linear-gradient(var(--sklearn-color-text-on-default-background), var(--sklearn-color-text-on-default-background));\n",
       "  background-size: 2px 100%;\n",
       "  background-repeat: no-repeat;\n",
       "  background-position: center center;\n",
       "}\n",
       "\n",
       "/* Parallel-specific style estimator block */\n",
       "\n",
       "#sk-container-id-1 div.sk-parallel-item::after {\n",
       "  content: \"\";\n",
       "  width: 100%;\n",
       "  border-bottom: 2px solid var(--sklearn-color-text-on-default-background);\n",
       "  flex-grow: 1;\n",
       "}\n",
       "\n",
       "#sk-container-id-1 div.sk-parallel {\n",
       "  display: flex;\n",
       "  align-items: stretch;\n",
       "  justify-content: center;\n",
       "  background-color: var(--sklearn-color-background);\n",
       "  position: relative;\n",
       "}\n",
       "\n",
       "#sk-container-id-1 div.sk-parallel-item {\n",
       "  display: flex;\n",
       "  flex-direction: column;\n",
       "}\n",
       "\n",
       "#sk-container-id-1 div.sk-parallel-item:first-child::after {\n",
       "  align-self: flex-end;\n",
       "  width: 50%;\n",
       "}\n",
       "\n",
       "#sk-container-id-1 div.sk-parallel-item:last-child::after {\n",
       "  align-self: flex-start;\n",
       "  width: 50%;\n",
       "}\n",
       "\n",
       "#sk-container-id-1 div.sk-parallel-item:only-child::after {\n",
       "  width: 0;\n",
       "}\n",
       "\n",
       "/* Serial-specific style estimator block */\n",
       "\n",
       "#sk-container-id-1 div.sk-serial {\n",
       "  display: flex;\n",
       "  flex-direction: column;\n",
       "  align-items: center;\n",
       "  background-color: var(--sklearn-color-background);\n",
       "  padding-right: 1em;\n",
       "  padding-left: 1em;\n",
       "}\n",
       "\n",
       "\n",
       "/* Toggleable style: style used for estimator/Pipeline/ColumnTransformer box that is\n",
       "clickable and can be expanded/collapsed.\n",
       "- Pipeline and ColumnTransformer use this feature and define the default style\n",
       "- Estimators will overwrite some part of the style using the `sk-estimator` class\n",
       "*/\n",
       "\n",
       "/* Pipeline and ColumnTransformer style (default) */\n",
       "\n",
       "#sk-container-id-1 div.sk-toggleable {\n",
       "  /* Default theme specific background. It is overwritten whether we have a\n",
       "  specific estimator or a Pipeline/ColumnTransformer */\n",
       "  background-color: var(--sklearn-color-background);\n",
       "}\n",
       "\n",
       "/* Toggleable label */\n",
       "#sk-container-id-1 label.sk-toggleable__label {\n",
       "  cursor: pointer;\n",
       "  display: block;\n",
       "  width: 100%;\n",
       "  margin-bottom: 0;\n",
       "  padding: 0.5em;\n",
       "  box-sizing: border-box;\n",
       "  text-align: center;\n",
       "}\n",
       "\n",
       "#sk-container-id-1 label.sk-toggleable__label-arrow:before {\n",
       "  /* Arrow on the left of the label */\n",
       "  content: \"▸\";\n",
       "  float: left;\n",
       "  margin-right: 0.25em;\n",
       "  color: var(--sklearn-color-icon);\n",
       "}\n",
       "\n",
       "#sk-container-id-1 label.sk-toggleable__label-arrow:hover:before {\n",
       "  color: var(--sklearn-color-text);\n",
       "}\n",
       "\n",
       "/* Toggleable content - dropdown */\n",
       "\n",
       "#sk-container-id-1 div.sk-toggleable__content {\n",
       "  max-height: 0;\n",
       "  max-width: 0;\n",
       "  overflow: hidden;\n",
       "  text-align: left;\n",
       "  /* unfitted */\n",
       "  background-color: var(--sklearn-color-unfitted-level-0);\n",
       "}\n",
       "\n",
       "#sk-container-id-1 div.sk-toggleable__content.fitted {\n",
       "  /* fitted */\n",
       "  background-color: var(--sklearn-color-fitted-level-0);\n",
       "}\n",
       "\n",
       "#sk-container-id-1 div.sk-toggleable__content pre {\n",
       "  margin: 0.2em;\n",
       "  border-radius: 0.25em;\n",
       "  color: var(--sklearn-color-text);\n",
       "  /* unfitted */\n",
       "  background-color: var(--sklearn-color-unfitted-level-0);\n",
       "}\n",
       "\n",
       "#sk-container-id-1 div.sk-toggleable__content.fitted pre {\n",
       "  /* unfitted */\n",
       "  background-color: var(--sklearn-color-fitted-level-0);\n",
       "}\n",
       "\n",
       "#sk-container-id-1 input.sk-toggleable__control:checked~div.sk-toggleable__content {\n",
       "  /* Expand drop-down */\n",
       "  max-height: 200px;\n",
       "  max-width: 100%;\n",
       "  overflow: auto;\n",
       "}\n",
       "\n",
       "#sk-container-id-1 input.sk-toggleable__control:checked~label.sk-toggleable__label-arrow:before {\n",
       "  content: \"▾\";\n",
       "}\n",
       "\n",
       "/* Pipeline/ColumnTransformer-specific style */\n",
       "\n",
       "#sk-container-id-1 div.sk-label input.sk-toggleable__control:checked~label.sk-toggleable__label {\n",
       "  color: var(--sklearn-color-text);\n",
       "  background-color: var(--sklearn-color-unfitted-level-2);\n",
       "}\n",
       "\n",
       "#sk-container-id-1 div.sk-label.fitted input.sk-toggleable__control:checked~label.sk-toggleable__label {\n",
       "  background-color: var(--sklearn-color-fitted-level-2);\n",
       "}\n",
       "\n",
       "/* Estimator-specific style */\n",
       "\n",
       "/* Colorize estimator box */\n",
       "#sk-container-id-1 div.sk-estimator input.sk-toggleable__control:checked~label.sk-toggleable__label {\n",
       "  /* unfitted */\n",
       "  background-color: var(--sklearn-color-unfitted-level-2);\n",
       "}\n",
       "\n",
       "#sk-container-id-1 div.sk-estimator.fitted input.sk-toggleable__control:checked~label.sk-toggleable__label {\n",
       "  /* fitted */\n",
       "  background-color: var(--sklearn-color-fitted-level-2);\n",
       "}\n",
       "\n",
       "#sk-container-id-1 div.sk-label label.sk-toggleable__label,\n",
       "#sk-container-id-1 div.sk-label label {\n",
       "  /* The background is the default theme color */\n",
       "  color: var(--sklearn-color-text-on-default-background);\n",
       "}\n",
       "\n",
       "/* On hover, darken the color of the background */\n",
       "#sk-container-id-1 div.sk-label:hover label.sk-toggleable__label {\n",
       "  color: var(--sklearn-color-text);\n",
       "  background-color: var(--sklearn-color-unfitted-level-2);\n",
       "}\n",
       "\n",
       "/* Label box, darken color on hover, fitted */\n",
       "#sk-container-id-1 div.sk-label.fitted:hover label.sk-toggleable__label.fitted {\n",
       "  color: var(--sklearn-color-text);\n",
       "  background-color: var(--sklearn-color-fitted-level-2);\n",
       "}\n",
       "\n",
       "/* Estimator label */\n",
       "\n",
       "#sk-container-id-1 div.sk-label label {\n",
       "  font-family: monospace;\n",
       "  font-weight: bold;\n",
       "  display: inline-block;\n",
       "  line-height: 1.2em;\n",
       "}\n",
       "\n",
       "#sk-container-id-1 div.sk-label-container {\n",
       "  text-align: center;\n",
       "}\n",
       "\n",
       "/* Estimator-specific */\n",
       "#sk-container-id-1 div.sk-estimator {\n",
       "  font-family: monospace;\n",
       "  border: 1px dotted var(--sklearn-color-border-box);\n",
       "  border-radius: 0.25em;\n",
       "  box-sizing: border-box;\n",
       "  margin-bottom: 0.5em;\n",
       "  /* unfitted */\n",
       "  background-color: var(--sklearn-color-unfitted-level-0);\n",
       "}\n",
       "\n",
       "#sk-container-id-1 div.sk-estimator.fitted {\n",
       "  /* fitted */\n",
       "  background-color: var(--sklearn-color-fitted-level-0);\n",
       "}\n",
       "\n",
       "/* on hover */\n",
       "#sk-container-id-1 div.sk-estimator:hover {\n",
       "  /* unfitted */\n",
       "  background-color: var(--sklearn-color-unfitted-level-2);\n",
       "}\n",
       "\n",
       "#sk-container-id-1 div.sk-estimator.fitted:hover {\n",
       "  /* fitted */\n",
       "  background-color: var(--sklearn-color-fitted-level-2);\n",
       "}\n",
       "\n",
       "/* Specification for estimator info (e.g. \"i\" and \"?\") */\n",
       "\n",
       "/* Common style for \"i\" and \"?\" */\n",
       "\n",
       ".sk-estimator-doc-link,\n",
       "a:link.sk-estimator-doc-link,\n",
       "a:visited.sk-estimator-doc-link {\n",
       "  float: right;\n",
       "  font-size: smaller;\n",
       "  line-height: 1em;\n",
       "  font-family: monospace;\n",
       "  background-color: var(--sklearn-color-background);\n",
       "  border-radius: 1em;\n",
       "  height: 1em;\n",
       "  width: 1em;\n",
       "  text-decoration: none !important;\n",
       "  margin-left: 1ex;\n",
       "  /* unfitted */\n",
       "  border: var(--sklearn-color-unfitted-level-1) 1pt solid;\n",
       "  color: var(--sklearn-color-unfitted-level-1);\n",
       "}\n",
       "\n",
       ".sk-estimator-doc-link.fitted,\n",
       "a:link.sk-estimator-doc-link.fitted,\n",
       "a:visited.sk-estimator-doc-link.fitted {\n",
       "  /* fitted */\n",
       "  border: var(--sklearn-color-fitted-level-1) 1pt solid;\n",
       "  color: var(--sklearn-color-fitted-level-1);\n",
       "}\n",
       "\n",
       "/* On hover */\n",
       "div.sk-estimator:hover .sk-estimator-doc-link:hover,\n",
       ".sk-estimator-doc-link:hover,\n",
       "div.sk-label-container:hover .sk-estimator-doc-link:hover,\n",
       ".sk-estimator-doc-link:hover {\n",
       "  /* unfitted */\n",
       "  background-color: var(--sklearn-color-unfitted-level-3);\n",
       "  color: var(--sklearn-color-background);\n",
       "  text-decoration: none;\n",
       "}\n",
       "\n",
       "div.sk-estimator.fitted:hover .sk-estimator-doc-link.fitted:hover,\n",
       ".sk-estimator-doc-link.fitted:hover,\n",
       "div.sk-label-container:hover .sk-estimator-doc-link.fitted:hover,\n",
       ".sk-estimator-doc-link.fitted:hover {\n",
       "  /* fitted */\n",
       "  background-color: var(--sklearn-color-fitted-level-3);\n",
       "  color: var(--sklearn-color-background);\n",
       "  text-decoration: none;\n",
       "}\n",
       "\n",
       "/* Span, style for the box shown on hovering the info icon */\n",
       ".sk-estimator-doc-link span {\n",
       "  display: none;\n",
       "  z-index: 9999;\n",
       "  position: relative;\n",
       "  font-weight: normal;\n",
       "  right: .2ex;\n",
       "  padding: .5ex;\n",
       "  margin: .5ex;\n",
       "  width: min-content;\n",
       "  min-width: 20ex;\n",
       "  max-width: 50ex;\n",
       "  color: var(--sklearn-color-text);\n",
       "  box-shadow: 2pt 2pt 4pt #999;\n",
       "  /* unfitted */\n",
       "  background: var(--sklearn-color-unfitted-level-0);\n",
       "  border: .5pt solid var(--sklearn-color-unfitted-level-3);\n",
       "}\n",
       "\n",
       ".sk-estimator-doc-link.fitted span {\n",
       "  /* fitted */\n",
       "  background: var(--sklearn-color-fitted-level-0);\n",
       "  border: var(--sklearn-color-fitted-level-3);\n",
       "}\n",
       "\n",
       ".sk-estimator-doc-link:hover span {\n",
       "  display: block;\n",
       "}\n",
       "\n",
       "/* \"?\"-specific style due to the `<a>` HTML tag */\n",
       "\n",
       "#sk-container-id-1 a.estimator_doc_link {\n",
       "  float: right;\n",
       "  font-size: 1rem;\n",
       "  line-height: 1em;\n",
       "  font-family: monospace;\n",
       "  background-color: var(--sklearn-color-background);\n",
       "  border-radius: 1rem;\n",
       "  height: 1rem;\n",
       "  width: 1rem;\n",
       "  text-decoration: none;\n",
       "  /* unfitted */\n",
       "  color: var(--sklearn-color-unfitted-level-1);\n",
       "  border: var(--sklearn-color-unfitted-level-1) 1pt solid;\n",
       "}\n",
       "\n",
       "#sk-container-id-1 a.estimator_doc_link.fitted {\n",
       "  /* fitted */\n",
       "  border: var(--sklearn-color-fitted-level-1) 1pt solid;\n",
       "  color: var(--sklearn-color-fitted-level-1);\n",
       "}\n",
       "\n",
       "/* On hover */\n",
       "#sk-container-id-1 a.estimator_doc_link:hover {\n",
       "  /* unfitted */\n",
       "  background-color: var(--sklearn-color-unfitted-level-3);\n",
       "  color: var(--sklearn-color-background);\n",
       "  text-decoration: none;\n",
       "}\n",
       "\n",
       "#sk-container-id-1 a.estimator_doc_link.fitted:hover {\n",
       "  /* fitted */\n",
       "  background-color: var(--sklearn-color-fitted-level-3);\n",
       "}\n",
       "</style><div id=\"sk-container-id-1\" class=\"sk-top-container\"><div class=\"sk-text-repr-fallback\"><pre>KMeans(max_iter=100, n_clusters=250)</pre><b>In a Jupyter environment, please rerun this cell to show the HTML representation or trust the notebook. <br />On GitHub, the HTML representation is unable to render, please try loading this page with nbviewer.org.</b></div><div class=\"sk-container\" hidden><div class=\"sk-item\"><div class=\"sk-estimator fitted sk-toggleable\"><input class=\"sk-toggleable__control sk-hidden--visually\" id=\"sk-estimator-id-1\" type=\"checkbox\" checked><label for=\"sk-estimator-id-1\" class=\"sk-toggleable__label fitted sk-toggleable__label-arrow fitted\">&nbsp;&nbsp;KMeans<a class=\"sk-estimator-doc-link fitted\" rel=\"noreferrer\" target=\"_blank\" href=\"https://scikit-learn.org/1.5/modules/generated/sklearn.cluster.KMeans.html\">?<span>Documentation for KMeans</span></a><span class=\"sk-estimator-doc-link fitted\">i<span>Fitted</span></span></label><div class=\"sk-toggleable__content fitted\"><pre>KMeans(max_iter=100, n_clusters=250)</pre></div> </div></div></div></div>"
      ],
      "text/plain": [
       "KMeans(max_iter=100, n_clusters=250)"
      ]
     },
     "execution_count": 16,
     "metadata": {},
     "output_type": "execute_result"
    }
   ],
   "source": [
    "kmeans = KMeans(\n",
    "    **{\"n_clusters\": 250, \"algorithm\": \"lloyd\", \"init\": \"k-means++\", \"max_iter\": 100}\n",
    ")\n",
    "kmeans.fit(X_after_svd)"
   ]
  },
  {
   "cell_type": "markdown",
   "id": "fa6bb4a8-21c7-41c1-84db-4759d37e03fe",
   "metadata": {},
   "source": [
    "# Naming clusters and creating topics"
   ]
  },
  {
   "cell_type": "markdown",
   "id": "f98a937b-8564-4ecc-a87e-49e22cd076e4",
   "metadata": {},
   "source": [
    "Let's name the topics using the KeyBert library.\n",
    "\n",
    "1. Sample examples from the library.\n",
    "2. Name the topic using the three most common words.\n",
    "3. Check the distribution of words.\n",
    "4. Group by negative and positive ratios.\n",
    "\n",
    "KeyBert utilizes the \"paraphrase-MiniLM-L6-v2\" model, which is a transformer model optimized for extracting keywords. This transformer will be used to extract labels from the items.\n",
    "\n",
    "BERT, an abbreviation for Bidirectional Encoder Representations from Transformers, is a transformer-based model designed for natural language processing tasks. Unlike conventional models, BERT processes text bidirectionally, taking into account the context from both the left and right sides of each word in a sentence. This enables BERT to grasp the nuanced meanings of words within various contexts. Its bidirectional nature enhances performance in tasks such as question answering and sentiment analysis. BERT is pre-trained on vast amounts of text and can be fine-tuned for specific applications, making it highly adaptable. Its architecture features multiple layers of encoders that handle text inputs simultaneously, boosting both efficiency and effectiveness in comprehending complex language. "
   ]
  },
  {
   "cell_type": "code",
   "execution_count": 17,
   "id": "a52c3ac7-f284-4f7e-8a6e-a887591ec72d",
   "metadata": {},
   "outputs": [],
   "source": [
    "sampled_data[\"labels\"] = kmeans.labels_"
   ]
  },
  {
   "cell_type": "code",
   "execution_count": 18,
   "id": "0a8f0b38-e220-4d7f-8f48-6c10f051fdf5",
   "metadata": {},
   "outputs": [
    {
     "data": {
      "text/plain": [
       "0         worship smaller churches ray pastor reread reg...\n",
       "4         glow praise criticise urgent editing possibly ...\n",
       "36        interplay diverse caribbean ongoing interactio...\n",
       "37        everett ferguson ferguson peek christians crit...\n",
       "40        saint hyacinth meeting rome witness saint domi...\n",
       "                                ...                        \n",
       "128460    speaking muslim summarize hadiths prophet muha...\n",
       "128468     clarity stern berg vocabulary drawing hearing...\n",
       "128542    castrate expurgate suit anxiety yamato graphic...\n",
       "128543    december hopelessly killer wave accessible fon...\n",
       "128544    decent occasionally burn glass sausage frequen...\n",
       "Name: text_lematized, Length: 14692, dtype: object"
      ]
     },
     "execution_count": 18,
     "metadata": {},
     "output_type": "execute_result"
    }
   ],
   "source": [
    "sampled_data[\"text_lematized\"]"
   ]
  },
  {
   "cell_type": "code",
   "execution_count": 19,
   "id": "1e4f5daa-774e-4a29-b177-4c8298d70467",
   "metadata": {},
   "outputs": [],
   "source": [
    "def sample_texts(group):\n",
    "    return \" \".join([i[:50] for i in group])[:512]\n",
    "\n",
    "\n",
    "sampled_texts = sampled_data.groupby(\"labels\")[\"text_lematized\"].apply(sample_texts)"
   ]
  },
  {
   "cell_type": "code",
   "execution_count": 20,
   "id": "6c1ee031-400d-461b-878f-bea01aa30f1e",
   "metadata": {},
   "outputs": [],
   "source": [
    "model_name = \"paraphrase-MiniLM-L6-v2\"\n",
    "\n",
    "st_model = sentence_transformers.SentenceTransformer(model_name, device=\"cpu\")\n",
    "\n",
    "kw_model = KeyBERT(model=SentenceTransformerBackend(st_model, batch_size=128))"
   ]
  },
  {
   "cell_type": "code",
   "execution_count": 21,
   "id": "dbb6e6c1-67e4-454d-83b3-7d64deee0170",
   "metadata": {},
   "outputs": [
    {
     "data": {
      "application/vnd.jupyter.widget-view+json": {
       "model_id": "99ffd64a5ff94f50a39da06c97cff397",
       "version_major": 2,
       "version_minor": 0
      },
      "text/plain": [
       "  0%|          | 0/2 [00:00<?, ?it/s]"
      ]
     },
     "metadata": {},
     "output_type": "display_data"
    }
   ],
   "source": [
    "found_keywords = []\n",
    "review_texts = sampled_texts.values\n",
    "batch_size = 128\n",
    "for start_idx in tqdm(range(0, len(review_texts), batch_size)):\n",
    "    end_idx = min(start_idx + batch_size, len(review_texts))\n",
    "\n",
    "    batch_texts = review_texts[start_idx:end_idx]\n",
    "    batch_keywords = kw_model.extract_keywords(batch_texts)\n",
    "\n",
    "    found_keywords.extend(batch_keywords)"
   ]
  },
  {
   "cell_type": "code",
   "execution_count": 22,
   "id": "cffd92ba-a965-4ff9-94de-920dd5903cb5",
   "metadata": {},
   "outputs": [],
   "source": [
    "def map_words_to_topics(ranked_words_list):\n",
    "    topics = []\n",
    "    for ranked_words in ranked_words_list:\n",
    "        ranked_words.sort(key=lambda x: x[1], reverse=True)\n",
    "        top_words = [word[0] for word in ranked_words[:3]]\n",
    "        topic = \"-\".join(top_words)\n",
    "        topics.append(topic)\n",
    "    return topics"
   ]
  },
  {
   "cell_type": "code",
   "execution_count": 23,
   "id": "a2a7e7b0-4f73-4ba4-98da-735f2de71df5",
   "metadata": {},
   "outputs": [],
   "source": [
    "def convert_to_dict(data):\n",
    "    result = {}\n",
    "    for item in data:\n",
    "        result[item[\"title\"]] = item[\"topic\"]\n",
    "    return result"
   ]
  },
  {
   "cell_type": "code",
   "execution_count": 24,
   "id": "18c82c89-3ed1-410d-b28f-6c07e0a2ea6c",
   "metadata": {},
   "outputs": [],
   "source": [
    "topics = map_words_to_topics(found_keywords)"
   ]
  },
  {
   "cell_type": "code",
   "execution_count": 25,
   "id": "405b212f-06ff-4162-b31b-a0f1902afb8a",
   "metadata": {},
   "outputs": [],
   "source": [
    "sampled_data[\"topic\"] = sampled_data[\"labels\"].apply(lambda label: topics[label])"
   ]
  },
  {
   "cell_type": "code",
   "execution_count": 26,
   "id": "d6d750db-c94d-484b-b379-0d0e1bb85f17",
   "metadata": {},
   "outputs": [],
   "source": [
    "mapping = convert_to_dict(sampled_data[[\"title\", \"topic\"]].to_dict(orient=\"records\"))"
   ]
  },
  {
   "cell_type": "code",
   "execution_count": 27,
   "id": "88cdb7e7-9861-42ca-af99-67665b028483",
   "metadata": {},
   "outputs": [
    {
     "data": {
      "text/plain": [
       "250"
      ]
     },
     "execution_count": 27,
     "metadata": {},
     "output_type": "execute_result"
    }
   ],
   "source": [
    "len(set([i for i in mapping.values()]))"
   ]
  },
  {
   "cell_type": "code",
   "execution_count": 28,
   "id": "3d1a8853-1298-4afd-9134-e090b6d1f989",
   "metadata": {},
   "outputs": [
    {
     "name": "stderr",
     "output_type": "stream",
     "text": [
      "/var/folders/ph/bfnsqjgs6h94fqr63sv1_3t80000gn/T/ipykernel_33495/2586612064.py:1: SettingWithCopyWarning: \n",
      "A value is trying to be set on a copy of a slice from a DataFrame.\n",
      "Try using .loc[row_indexer,col_indexer] = value instead\n",
      "\n",
      "See the caveats in the documentation: https://pandas.pydata.org/pandas-docs/stable/user_guide/indexing.html#returning-a-view-versus-a-copy\n",
      "  train_data[\"topic\"] = train_data[\"title\"].apply(mapping.get)\n"
     ]
    }
   ],
   "source": [
    "train_data[\"topic\"] = train_data[\"title\"].apply(mapping.get)"
   ]
  },
  {
   "cell_type": "code",
   "execution_count": 29,
   "id": "ff5b47bf-289c-427e-a883-44e934ed81f9",
   "metadata": {},
   "outputs": [
    {
     "data": {
      "text/plain": [
       "250"
      ]
     },
     "execution_count": 29,
     "metadata": {},
     "output_type": "execute_result"
    }
   ],
   "source": [
    "len(train_data[\"topic\"].unique())"
   ]
  },
  {
   "cell_type": "markdown",
   "id": "1fcb2d96-cece-42a0-9d72-71be89180ed6",
   "metadata": {},
   "source": [
    "# Topics"
   ]
  },
  {
   "cell_type": "code",
   "execution_count": 51,
   "id": "db47c57a-6efc-40df-b8ff-2bfb5b21af2e",
   "metadata": {},
   "outputs": [
    {
     "data": {
      "text/plain": [
       "topic\n",
       "lee-seller-jam                       1\n",
       "java-integrity-syntax                2\n",
       "anthology-inclusion-homa             4\n",
       "russian-dep-international            5\n",
       "ottn-publishing-involvement          5\n",
       "                                 ...  \n",
       "celiac-pastry-bake                1727\n",
       "obscenity-portraiture-conjure     2405\n",
       "reformational-taht-gospel         3636\n",
       "criticis-apologist-yoruba        22744\n",
       "glow-dare-praise                 43082\n",
       "Length: 250, dtype: int64"
      ]
     },
     "execution_count": 51,
     "metadata": {},
     "output_type": "execute_result"
    }
   ],
   "source": [
    "train_data.groupby([\"topic\"]).size().sort_values()"
   ]
  },
  {
   "cell_type": "markdown",
   "id": "da6eee39-635a-4c82-9915-4fbeb6b052e7",
   "metadata": {},
   "source": [
    "We have unique 250 clusters. We can see from below histogram that number of the clusters vary - and  the largest one have around 3000, 22744, and 43082 titles. We can treat them as otuliers. Large clusters might mask underlying structures and relationships within the data. Important subgroups or patterns within those large clusters might be lost, which compromises the quality and interpretability of the clustering result.\n",
    "\n",
    "The most of the clusters contains between 1 and 50 positions."
   ]
  },
  {
   "cell_type": "code",
   "execution_count": 49,
   "id": "b5948b23-b98d-49ae-bd6b-75751b95d024",
   "metadata": {},
   "outputs": [
    {
     "data": {
      "text/plain": [
       "<Axes: >"
      ]
     },
     "execution_count": 49,
     "metadata": {},
     "output_type": "execute_result"
    },
    {
     "data": {
      "image/png": "[encoded data removed]",
      "text/plain": [
       "<Figure size 640x480 with 1 Axes>"
      ]
     },
     "metadata": {},
     "output_type": "display_data"
    }
   ],
   "source": [
    "train_data[[\"topic\", \"title\"]].drop_duplicates(\"title\").groupby(\n",
    "    [\"topic\"]\n",
    ").size().sort_values()[:-2].hist(bins=100)"
   ]
  },
  {
   "cell_type": "code",
   "execution_count": null,
   "id": "ba3ac70d-9388-4c32-86a7-095c475b2fab",
   "metadata": {},
   "outputs": [],
   "source": [
    "train_data[[\"topic\", \"title\"]]"
   ]
  },
  {
   "cell_type": "markdown",
   "id": "8aecf579-db17-4b73-a131-bdde59fc7987",
   "metadata": {},
   "source": [
    "## How many topics tend to generate the most negative reactions from the audience?"
   ]
  },
  {
   "cell_type": "code",
   "execution_count": 31,
   "id": "c5b22f1a-cb6d-489f-bb64-5fd754844e1a",
   "metadata": {},
   "outputs": [],
   "source": [
    "sentiment_counts = (\n",
    "    train_data.groupby([\"topic\", \"sentiment\"]).size().unstack(fill_value=0)\n",
    ")"
   ]
  },
  {
   "cell_type": "code",
   "execution_count": 32,
   "id": "9a3a1afc-643d-474d-b504-e9f83bc2561f",
   "metadata": {},
   "outputs": [
    {
     "data": {
      "text/html": [
       "<div>\n",
       "<style scoped>\n",
       "    .dataframe tbody tr th:only-of-type {\n",
       "        vertical-align: middle;\n",
       "    }\n",
       "\n",
       "    .dataframe tbody tr th {\n",
       "        vertical-align: top;\n",
       "    }\n",
       "\n",
       "    .dataframe thead th {\n",
       "        text-align: right;\n",
       "    }\n",
       "</style>\n",
       "<table border=\"1\" class=\"dataframe\">\n",
       "  <thead>\n",
       "    <tr style=\"text-align: right;\">\n",
       "      <th>sentiment</th>\n",
       "      <th>negative</th>\n",
       "      <th>positive</th>\n",
       "    </tr>\n",
       "    <tr>\n",
       "      <th>topic</th>\n",
       "      <th></th>\n",
       "      <th></th>\n",
       "    </tr>\n",
       "  </thead>\n",
       "  <tbody>\n",
       "    <tr>\n",
       "      <th>abortion-proponent-philoso</th>\n",
       "      <td>2</td>\n",
       "      <td>35</td>\n",
       "    </tr>\n",
       "    <tr>\n",
       "      <th>addiction-addictio-addicted</th>\n",
       "      <td>22</td>\n",
       "      <td>215</td>\n",
       "    </tr>\n",
       "    <tr>\n",
       "      <th>adhd-drs-prescr</th>\n",
       "      <td>9</td>\n",
       "      <td>157</td>\n",
       "    </tr>\n",
       "    <tr>\n",
       "      <th>adoption-adopt-adoptive</th>\n",
       "      <td>11</td>\n",
       "      <td>125</td>\n",
       "    </tr>\n",
       "    <tr>\n",
       "      <th>advertising-ad-marketing</th>\n",
       "      <td>10</td>\n",
       "      <td>40</td>\n",
       "    </tr>\n",
       "    <tr>\n",
       "      <th>...</th>\n",
       "      <td>...</td>\n",
       "      <td>...</td>\n",
       "    </tr>\n",
       "    <tr>\n",
       "      <th>worship-psalms-protest</th>\n",
       "      <td>11</td>\n",
       "      <td>26</td>\n",
       "    </tr>\n",
       "    <tr>\n",
       "      <th>wrestling-wrestle-wrestlecrap</th>\n",
       "      <td>16</td>\n",
       "      <td>46</td>\n",
       "    </tr>\n",
       "    <tr>\n",
       "      <th>xml-wm-flash</th>\n",
       "      <td>30</td>\n",
       "      <td>270</td>\n",
       "    </tr>\n",
       "    <tr>\n",
       "      <th>yoga-meditation-dharamsala</th>\n",
       "      <td>17</td>\n",
       "      <td>262</td>\n",
       "    </tr>\n",
       "    <tr>\n",
       "      <th>zen-buddhism-buddhist</th>\n",
       "      <td>6</td>\n",
       "      <td>63</td>\n",
       "    </tr>\n",
       "  </tbody>\n",
       "</table>\n",
       "<p>250 rows × 2 columns</p>\n",
       "</div>"
      ],
      "text/plain": [
       "sentiment                      negative  positive\n",
       "topic                                            \n",
       "abortion-proponent-philoso            2        35\n",
       "addiction-addictio-addicted          22       215\n",
       "adhd-drs-prescr                       9       157\n",
       "adoption-adopt-adoptive              11       125\n",
       "advertising-ad-marketing             10        40\n",
       "...                                 ...       ...\n",
       "worship-psalms-protest               11        26\n",
       "wrestling-wrestle-wrestlecrap        16        46\n",
       "xml-wm-flash                         30       270\n",
       "yoga-meditation-dharamsala           17       262\n",
       "zen-buddhism-buddhist                 6        63\n",
       "\n",
       "[250 rows x 2 columns]"
      ]
     },
     "execution_count": 32,
     "metadata": {},
     "output_type": "execute_result"
    }
   ],
   "source": [
    "sentiment_counts"
   ]
  },
  {
   "cell_type": "code",
   "execution_count": 40,
   "id": "517db757-7cf5-4c8a-a246-dda647f4c87f",
   "metadata": {},
   "outputs": [],
   "source": [
    "topics_with_more_neg = sentiment_counts[\n",
    "    sentiment_counts[\"negative\"] > sentiment_counts[\"positive\"]\n",
    "].index"
   ]
  },
  {
   "cell_type": "code",
   "execution_count": 41,
   "id": "3e99debc-7b4f-4ded-8c7c-d5a70583137f",
   "metadata": {},
   "outputs": [
    {
     "data": {
      "text/plain": [
       "Index([], dtype='object', name='topic')"
      ]
     },
     "execution_count": 41,
     "metadata": {},
     "output_type": "execute_result"
    }
   ],
   "source": [
    "topics_with_more_neg"
   ]
  },
  {
   "cell_type": "markdown",
   "id": "38324052-2ea3-41f9-aeac-a72a01a18b6c",
   "metadata": {},
   "source": [
    "**There is no cluster with more negative sentiments overall.** However, we can identify which cluster has the highest proportion of negative sentiments."
   ]
  },
  {
   "cell_type": "code",
   "execution_count": 42,
   "id": "728eee9f-ea08-41a7-b22e-1d04ffc5bfd1",
   "metadata": {},
   "outputs": [],
   "source": [
    "sentiment_counts[\"total_sentiments\"] = (\n",
    "    sentiment_counts[\"negative\"] + sentiment_counts[\"positive\"]\n",
    ")\n",
    "sentiment_counts[\"proportion_negative\"] = (\n",
    "    sentiment_counts[\"negative\"] / sentiment_counts[\"total_sentiments\"]\n",
    ")"
   ]
  },
  {
   "cell_type": "code",
   "execution_count": 45,
   "id": "2164dde2-fd29-4352-8129-0302d25be341",
   "metadata": {},
   "outputs": [
    {
     "data": {
      "text/html": [
       "<div>\n",
       "<style scoped>\n",
       "    .dataframe tbody tr th:only-of-type {\n",
       "        vertical-align: middle;\n",
       "    }\n",
       "\n",
       "    .dataframe tbody tr th {\n",
       "        vertical-align: top;\n",
       "    }\n",
       "\n",
       "    .dataframe thead th {\n",
       "        text-align: right;\n",
       "    }\n",
       "</style>\n",
       "<table border=\"1\" class=\"dataframe\">\n",
       "  <thead>\n",
       "    <tr style=\"text-align: right;\">\n",
       "      <th>sentiment</th>\n",
       "      <th>negative</th>\n",
       "      <th>positive</th>\n",
       "      <th>total_sentiments</th>\n",
       "      <th>proportion_negative</th>\n",
       "    </tr>\n",
       "    <tr>\n",
       "      <th>topic</th>\n",
       "      <th></th>\n",
       "      <th></th>\n",
       "      <th></th>\n",
       "      <th></th>\n",
       "    </tr>\n",
       "  </thead>\n",
       "  <tbody>\n",
       "    <tr>\n",
       "      <th>anthology-inclusion-homa</th>\n",
       "      <td>2</td>\n",
       "      <td>2</td>\n",
       "      <td>4</td>\n",
       "      <td>0.500000</td>\n",
       "    </tr>\n",
       "    <tr>\n",
       "      <th>java-integrity-syntax</th>\n",
       "      <td>1</td>\n",
       "      <td>1</td>\n",
       "      <td>2</td>\n",
       "      <td>0.500000</td>\n",
       "    </tr>\n",
       "    <tr>\n",
       "      <th>clep-exam-civ</th>\n",
       "      <td>28</td>\n",
       "      <td>34</td>\n",
       "      <td>62</td>\n",
       "      <td>0.451613</td>\n",
       "    </tr>\n",
       "    <tr>\n",
       "      <th>double-twin-reprint</th>\n",
       "      <td>71</td>\n",
       "      <td>113</td>\n",
       "      <td>184</td>\n",
       "      <td>0.385870</td>\n",
       "    </tr>\n",
       "    <tr>\n",
       "      <th>cave-cavern-exploration</th>\n",
       "      <td>8</td>\n",
       "      <td>15</td>\n",
       "      <td>23</td>\n",
       "      <td>0.347826</td>\n",
       "    </tr>\n",
       "    <tr>\n",
       "      <th>...</th>\n",
       "      <td>...</td>\n",
       "      <td>...</td>\n",
       "      <td>...</td>\n",
       "      <td>...</td>\n",
       "    </tr>\n",
       "    <tr>\n",
       "      <th>literacy-oxford-educator</th>\n",
       "      <td>0</td>\n",
       "      <td>13</td>\n",
       "      <td>13</td>\n",
       "      <td>0.000000</td>\n",
       "    </tr>\n",
       "    <tr>\n",
       "      <th>forgiveness-forgiver-forgive</th>\n",
       "      <td>0</td>\n",
       "      <td>32</td>\n",
       "      <td>32</td>\n",
       "      <td>0.000000</td>\n",
       "    </tr>\n",
       "    <tr>\n",
       "      <th>timely-fault-flip</th>\n",
       "      <td>0</td>\n",
       "      <td>5</td>\n",
       "      <td>5</td>\n",
       "      <td>0.000000</td>\n",
       "    </tr>\n",
       "    <tr>\n",
       "      <th>ottn-publishing-involvement</th>\n",
       "      <td>0</td>\n",
       "      <td>5</td>\n",
       "      <td>5</td>\n",
       "      <td>0.000000</td>\n",
       "    </tr>\n",
       "    <tr>\n",
       "      <th>lee-seller-jam</th>\n",
       "      <td>0</td>\n",
       "      <td>1</td>\n",
       "      <td>1</td>\n",
       "      <td>0.000000</td>\n",
       "    </tr>\n",
       "  </tbody>\n",
       "</table>\n",
       "<p>250 rows × 4 columns</p>\n",
       "</div>"
      ],
      "text/plain": [
       "sentiment                     negative  positive  total_sentiments  \\\n",
       "topic                                                                \n",
       "anthology-inclusion-homa             2         2                 4   \n",
       "java-integrity-syntax                1         1                 2   \n",
       "clep-exam-civ                       28        34                62   \n",
       "double-twin-reprint                 71       113               184   \n",
       "cave-cavern-exploration              8        15                23   \n",
       "...                                ...       ...               ...   \n",
       "literacy-oxford-educator             0        13                13   \n",
       "forgiveness-forgiver-forgive         0        32                32   \n",
       "timely-fault-flip                    0         5                 5   \n",
       "ottn-publishing-involvement          0         5                 5   \n",
       "lee-seller-jam                       0         1                 1   \n",
       "\n",
       "sentiment                     proportion_negative  \n",
       "topic                                              \n",
       "anthology-inclusion-homa                 0.500000  \n",
       "java-integrity-syntax                    0.500000  \n",
       "clep-exam-civ                            0.451613  \n",
       "double-twin-reprint                      0.385870  \n",
       "cave-cavern-exploration                  0.347826  \n",
       "...                                           ...  \n",
       "literacy-oxford-educator                 0.000000  \n",
       "forgiveness-forgiver-forgive             0.000000  \n",
       "timely-fault-flip                        0.000000  \n",
       "ottn-publishing-involvement              0.000000  \n",
       "lee-seller-jam                           0.000000  \n",
       "\n",
       "[250 rows x 4 columns]"
      ]
     },
     "execution_count": 45,
     "metadata": {},
     "output_type": "execute_result"
    }
   ],
   "source": [
    "sentiment_counts.sort_values(\"proportion_negative\", ascending=False)"
   ]
  },
  {
   "cell_type": "markdown",
   "id": "145e8444-1248-4033-9b06-16f86cc321c2",
   "metadata": {},
   "source": [
    "Two first results are not relevant, because they contain very small sample of reviews in my opinion. The third one looks like relevant (62 records). It looks like the exams ('clap-exam-civ')topics are giving the most number of emotion. "
   ]
  },
  {
   "cell_type": "code",
   "execution_count": 48,
   "id": "24efdfce-ec75-4991-a653-377935b839e7",
   "metadata": {},
   "outputs": [
    {
     "data": {
      "text/html": [
       "<div>\n",
       "<style scoped>\n",
       "    .dataframe tbody tr th:only-of-type {\n",
       "        vertical-align: middle;\n",
       "    }\n",
       "\n",
       "    .dataframe tbody tr th {\n",
       "        vertical-align: top;\n",
       "    }\n",
       "\n",
       "    .dataframe thead th {\n",
       "        text-align: right;\n",
       "    }\n",
       "</style>\n",
       "<table border=\"1\" class=\"dataframe\">\n",
       "  <thead>\n",
       "    <tr style=\"text-align: right;\">\n",
       "      <th></th>\n",
       "      <th>title</th>\n",
       "      <th>overall</th>\n",
       "      <th>reviewText</th>\n",
       "      <th>topic</th>\n",
       "    </tr>\n",
       "  </thead>\n",
       "  <tbody>\n",
       "    <tr>\n",
       "      <th>21777</th>\n",
       "      <td>Western Civilization: Combined Volume</td>\n",
       "      <td>5.0</td>\n",
       "      <td>This book is an excellent resource for prepari...</td>\n",
       "      <td>clep-exam-civ</td>\n",
       "    </tr>\n",
       "    <tr>\n",
       "      <th>21778</th>\n",
       "      <td>Western Civilization: Combined Volume</td>\n",
       "      <td>5.0</td>\n",
       "      <td>i actually love this book. First, i used it to...</td>\n",
       "      <td>clep-exam-civ</td>\n",
       "    </tr>\n",
       "    <tr>\n",
       "      <th>21779</th>\n",
       "      <td>Western Civilization: Combined Volume</td>\n",
       "      <td>5.0</td>\n",
       "      <td>i used this text in my ap European History cou...</td>\n",
       "      <td>clep-exam-civ</td>\n",
       "    </tr>\n",
       "    <tr>\n",
       "      <th>21780</th>\n",
       "      <td>Western Civilization: Combined Volume</td>\n",
       "      <td>5.0</td>\n",
       "      <td>i bought this book based off of another person...</td>\n",
       "      <td>clep-exam-civ</td>\n",
       "    </tr>\n",
       "    <tr>\n",
       "      <th>21781</th>\n",
       "      <td>Western Civilization: Combined Volume</td>\n",
       "      <td>5.0</td>\n",
       "      <td>i purchased this book for homeschool learning ...</td>\n",
       "      <td>clep-exam-civ</td>\n",
       "    </tr>\n",
       "    <tr>\n",
       "      <th>...</th>\n",
       "      <td>...</td>\n",
       "      <td>...</td>\n",
       "      <td>...</td>\n",
       "      <td>...</td>\n",
       "    </tr>\n",
       "    <tr>\n",
       "      <th>94860</th>\n",
       "      <td>CLEP General Exams w/ CD-ROM (CLEP Test Prepar...</td>\n",
       "      <td>5.0</td>\n",
       "      <td>Great resource, the cd was great because it wa...</td>\n",
       "      <td>clep-exam-civ</td>\n",
       "    </tr>\n",
       "    <tr>\n",
       "      <th>94861</th>\n",
       "      <td>CLEP General Exams w/ CD-ROM (CLEP Test Prepar...</td>\n",
       "      <td>1.0</td>\n",
       "      <td>i studied this book to an obsessive level for ...</td>\n",
       "      <td>clep-exam-civ</td>\n",
       "    </tr>\n",
       "    <tr>\n",
       "      <th>94863</th>\n",
       "      <td>CLEP General Exams w/ CD-ROM (CLEP Test Prepar...</td>\n",
       "      <td>5.0</td>\n",
       "      <td>i have passed a lot of Cleps, and rea has help...</td>\n",
       "      <td>clep-exam-civ</td>\n",
       "    </tr>\n",
       "    <tr>\n",
       "      <th>94864</th>\n",
       "      <td>CLEP General Exams w/ CD-ROM (CLEP Test Prepar...</td>\n",
       "      <td>2.0</td>\n",
       "      <td>The cd was only helpful as a test- taking prac...</td>\n",
       "      <td>clep-exam-civ</td>\n",
       "    </tr>\n",
       "    <tr>\n",
       "      <th>94865</th>\n",
       "      <td>CLEP General Exams w/ CD-ROM (CLEP Test Prepar...</td>\n",
       "      <td>4.0</td>\n",
       "      <td>This is a good supplement to the Official clep...</td>\n",
       "      <td>clep-exam-civ</td>\n",
       "    </tr>\n",
       "  </tbody>\n",
       "</table>\n",
       "<p>62 rows × 4 columns</p>\n",
       "</div>"
      ],
      "text/plain": [
       "                                                   title  overall  \\\n",
       "21777              Western Civilization: Combined Volume      5.0   \n",
       "21778              Western Civilization: Combined Volume      5.0   \n",
       "21779              Western Civilization: Combined Volume      5.0   \n",
       "21780              Western Civilization: Combined Volume      5.0   \n",
       "21781              Western Civilization: Combined Volume      5.0   \n",
       "...                                                  ...      ...   \n",
       "94860  CLEP General Exams w/ CD-ROM (CLEP Test Prepar...      5.0   \n",
       "94861  CLEP General Exams w/ CD-ROM (CLEP Test Prepar...      1.0   \n",
       "94863  CLEP General Exams w/ CD-ROM (CLEP Test Prepar...      5.0   \n",
       "94864  CLEP General Exams w/ CD-ROM (CLEP Test Prepar...      2.0   \n",
       "94865  CLEP General Exams w/ CD-ROM (CLEP Test Prepar...      4.0   \n",
       "\n",
       "                                              reviewText          topic  \n",
       "21777  This book is an excellent resource for prepari...  clep-exam-civ  \n",
       "21778  i actually love this book. First, i used it to...  clep-exam-civ  \n",
       "21779  i used this text in my ap European History cou...  clep-exam-civ  \n",
       "21780  i bought this book based off of another person...  clep-exam-civ  \n",
       "21781  i purchased this book for homeschool learning ...  clep-exam-civ  \n",
       "...                                                  ...            ...  \n",
       "94860  Great resource, the cd was great because it wa...  clep-exam-civ  \n",
       "94861  i studied this book to an obsessive level for ...  clep-exam-civ  \n",
       "94863  i have passed a lot of Cleps, and rea has help...  clep-exam-civ  \n",
       "94864  The cd was only helpful as a test- taking prac...  clep-exam-civ  \n",
       "94865  This is a good supplement to the Official clep...  clep-exam-civ  \n",
       "\n",
       "[62 rows x 4 columns]"
      ]
     },
     "execution_count": 48,
     "metadata": {},
     "output_type": "execute_result"
    }
   ],
   "source": [
    "train_data[train_data['topic'] == 'clep-exam-civ'][['title', 'overall', 'reviewText', 'topic']]"
   ]
  },
  {
   "cell_type": "markdown",
   "id": "891afcff-6ff6-4e39-bd6f-8e8f017b2f61",
   "metadata": {},
   "source": [
    "# Conclusion and to do-s\n",
    "\n"
   ]
  },
  {
   "cell_type": "markdown",
   "id": "a9066480-f10c-49af-a3c6-2e46c4a543ab",
   "metadata": {},
   "source": [
    "The primary objective of this analysis was to identify trending topics in a dataset of approximately book reviews for 14000 unique books. We aimed to cluster these reviews into actionable segments and analyze the sentiment (positive or negative) related to each topic. \n",
    "\n",
    "Methodology:\n",
    "1. **Data Preparation:** \n",
    "2. **Text Vectorization with TF-IDF Vectorizer:** \n",
    "3. **Clustering and Dimensionality Reduction:**\n",
    "4. **Cluster Analysis and Topic Naming:**\n",
    "\n",
    "#### Findings:\n",
    "\n",
    "- **Clusters:** 250 meaningful clusters were formed.\n",
    "   - **Cluster Size Distribution:** Most clusters have between 1 to 50 titles.\n",
    "- **Sentiment Distribution:** Preliminary analyses indicate that certain topics, such as exams (e.g., 'clap-exam-civ'), have a higher concentration of emotionally charged reviews.\n",
    "\n",
    "\n",
    "The analysis successfully leveraged traditional machine learning methods such as TF-IDF and Truncated SVD instead of computationally expensive transformers, providing a scalable solution for large datasets. Limiting the number of topics and clusters ensures the results are actionable and aligned with business needs. Further examination of sentiment-related insights can support strategic decisions for publishers and authors, highlighting areas for improvement and emerging trends in literary content.\n",
    "\n",
    "Another approaches that needs to be used:\n",
    "* agglomerative clusering,\n",
    "* FINCH algorithm\n",
    "* LDA"
   ]
  },
  {
   "cell_type": "markdown",
   "id": "fe5cb942-1fe3-4d4f-8fce-14beb84fc98f",
   "metadata": {},
   "source": [
    "# Sources"
   ]
  },
  {
   "cell_type": "markdown",
   "id": "86460649-8b6b-4554-92d3-4e656e00e652",
   "metadata": {},
   "source": [
    "https://machinelearningmastery.com/how-to-configure-k-fold-cross-validation/\n",
    "\n",
    "https://www.analyticsvidhya.com/blog/2023/02/topic-modeling-using-latent-dirichlet-allocation-lda/#:~:text=Topic%20modeling%20is%20a%20versatile,within%20a%20corpus%20of%20documents.\n",
    "\n",
    "https://towardsdatascience.com/elbow-clustering-for-artificial-intelligence-be9c641d9cf8 \n",
    "\n",
    "https://jalammar.github.io/illustrated-transformer/\n"
   ]
  }
 ],
 "metadata": {
  "kernelspec": {
   "display_name": "Python 3 (ipykernel)",
   "language": "python",
   "name": "python3"
  },
  "language_info": {
   "codemirror_mode": {
    "name": "ipython",
    "version": 3
   },
   "file_extension": ".py",
   "mimetype": "text/x-python",
   "name": "python",
   "nbconvert_exporter": "python",
   "pygments_lexer": "ipython3",
   "version": "3.10.9"
  }
 },
 "nbformat": 4,
 "nbformat_minor": 5
}
